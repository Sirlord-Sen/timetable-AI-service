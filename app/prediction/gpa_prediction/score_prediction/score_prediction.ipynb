{
 "cells": [
  {
   "cell_type": "code",
   "execution_count": 1,
   "source": [
    "import os\r\n",
    "import os.path as path\r\n",
    "import numpy as np\r\n",
    "import pandas as pd \r\n",
    "import matplotlib.pyplot as plt \r\n",
    "from tensorflow.keras import layers, models, optimizers, regularizers\r\n",
    "from tensorflow.keras.models import load_model"
   ],
   "outputs": [],
   "metadata": {}
  },
  {
   "cell_type": "code",
   "execution_count": 2,
   "source": [
    "current_dir = os.path.join(os.getcwd())\r\n",
    "file = os.path.join(path.dirname(path.dirname(current_dir)), \"generate_data\\data_gpa.csv\")\r\n",
    "myData = pd.read_csv(file, delimiter=',', usecols=['gpa','credit','time','difficulty', 'points'])\r\n",
    "my_data_copy = myData\r\n",
    "myData.shape"
   ],
   "outputs": [
    {
     "output_type": "execute_result",
     "data": {
      "text/plain": [
       "(9144, 5)"
      ]
     },
     "metadata": {},
     "execution_count": 2
    }
   ],
   "metadata": {}
  },
  {
   "cell_type": "code",
   "execution_count": 3,
   "source": [
    "myData[\"gpa\"] = myData[\"gpa\"].values / 4\r\n",
    "myData[\"credit\"] = myData[\"credit\"].values / 6\r\n",
    "myData[\"time\"] = myData[\"time\"].values / 6\r\n",
    "myData [\"difficulty\"] = myData['difficulty'].values / 5\r\n",
    "myData[\"points\"] = myData[\"points\"].values / 4"
   ],
   "outputs": [],
   "metadata": {}
  },
  {
   "cell_type": "code",
   "execution_count": 4,
   "source": [
    "df = pd.DataFrame(myData)\r\n",
    "df = df.sample(frac=1)\r\n",
    "\r\n",
    "myData = df"
   ],
   "outputs": [],
   "metadata": {}
  },
  {
   "cell_type": "code",
   "execution_count": 5,
   "source": [
    "targets = myData[['points']].values\r\n",
    "myData.drop(('points'), axis=1, inplace=True)\r\n",
    "data = myData.values\r\n",
    "\r\n",
    "print(targets.shape)\r\n",
    "print(data.shape)"
   ],
   "outputs": [
    {
     "output_type": "stream",
     "name": "stdout",
     "text": [
      "(9144, 1)\n",
      "(9144, 4)\n"
     ]
    }
   ],
   "metadata": {}
  },
  {
   "cell_type": "code",
   "execution_count": 6,
   "source": [
    "train_data = data[0 : 4000]\r\n",
    "test_data = data[4000: 6000]\r\n",
    "val_data = data[6000:8000]\r\n",
    "\r\n",
    "train_targets = targets[0 : 4000]\r\n",
    "test_targets = targets[4000: 6000]\r\n",
    "val_targets = targets[6000 :8000]\r\n",
    "\r\n",
    "print(len(train_data) + len(test_data) + len(val_data))\r\n",
    "print(len(train_targets) + len(test_targets) + len(val_targets))"
   ],
   "outputs": [
    {
     "output_type": "stream",
     "name": "stdout",
     "text": [
      "8000\n",
      "8000\n"
     ]
    }
   ],
   "metadata": {}
  },
  {
   "cell_type": "code",
   "execution_count": 22,
   "source": [
    "model = models.Sequential()\r\n",
    "model.add(layers.Dense(64, activation=\"relu\", input_shape=(train_data.shape[1],)))\r\n",
    "# model.add(layers.Dropout(0.5))\r\n",
    "model.add(layers.Dense(64, activation=\"relu\"))\r\n",
    "# model.add(layers.Dropout(0.5))\r\n",
    "model.add(layers.Dense(64, activation=\"relu\"))\r\n",
    "# # model.add(layers.Dropout(0.5))\r\n",
    "model.add(layers.Dense(8, activation=\"relu\"))\r\n",
    "model.add(layers.Dense(8, activation=\"relu\"))\r\n",
    "# model.add(layers.Dense(32, activation=\"relu\"))\r\n",
    "# model.add(layers.Dense(32, activation=\"relu\"))\r\n",
    "# model.add(layers.Dense(32, activation=\"relu\"))\r\n",
    "model.add(layers.Dense(1))\r\n",
    "\r\n",
    "model.summary()"
   ],
   "outputs": [
    {
     "output_type": "stream",
     "name": "stdout",
     "text": [
      "Model: \"sequential_3\"\n",
      "_________________________________________________________________\n",
      "Layer (type)                 Output Shape              Param #   \n",
      "=================================================================\n",
      "dense_14 (Dense)             (None, 64)                320       \n",
      "_________________________________________________________________\n",
      "dense_15 (Dense)             (None, 64)                4160      \n",
      "_________________________________________________________________\n",
      "dense_16 (Dense)             (None, 64)                4160      \n",
      "_________________________________________________________________\n",
      "dense_17 (Dense)             (None, 8)                 520       \n",
      "_________________________________________________________________\n",
      "dense_18 (Dense)             (None, 8)                 72        \n",
      "_________________________________________________________________\n",
      "dense_19 (Dense)             (None, 1)                 9         \n",
      "=================================================================\n",
      "Total params: 9,241\n",
      "Trainable params: 9,241\n",
      "Non-trainable params: 0\n",
      "_________________________________________________________________\n"
     ]
    }
   ],
   "metadata": {}
  },
  {
   "cell_type": "code",
   "execution_count": 23,
   "source": [
    "model.compile(\r\n",
    "    optimizer=optimizers.RMSprop(learning_rate=2e-4),\r\n",
    "    loss=\"mse\",\r\n",
    "    metrics=['mae']\r\n",
    "    )"
   ],
   "outputs": [],
   "metadata": {}
  },
  {
   "cell_type": "code",
   "execution_count": 24,
   "source": [
    "history = model.fit(train_data,\r\n",
    "                    train_targets,\r\n",
    "                    epochs=50,\r\n",
    "                    batch_size=100,\r\n",
    "                    validation_data=(val_data, val_targets)\r\n",
    "                    )"
   ],
   "outputs": [
    {
     "output_type": "stream",
     "name": "stdout",
     "text": [
      "Epoch 1/50\n",
      "40/40 [==============================] - 2s 6ms/step - loss: 0.4908 - mae: 0.6669 - val_loss: 0.3712 - val_mae: 0.5724\n",
      "Epoch 2/50\n",
      "40/40 [==============================] - 0s 2ms/step - loss: 0.2592 - mae: 0.4639 - val_loss: 0.1111 - val_mae: 0.2914\n",
      "Epoch 3/50\n",
      "40/40 [==============================] - 0s 2ms/step - loss: 0.0575 - mae: 0.1993 - val_loss: 0.0343 - val_mae: 0.1520\n",
      "Epoch 4/50\n",
      "40/40 [==============================] - 0s 2ms/step - loss: 0.0280 - mae: 0.1350 - val_loss: 0.0235 - val_mae: 0.1245\n",
      "Epoch 5/50\n",
      "40/40 [==============================] - 0s 2ms/step - loss: 0.0207 - mae: 0.1147 - val_loss: 0.0193 - val_mae: 0.1107\n",
      "Epoch 6/50\n",
      "40/40 [==============================] - 0s 2ms/step - loss: 0.0190 - mae: 0.1092 - val_loss: 0.0186 - val_mae: 0.1089\n",
      "Epoch 7/50\n",
      "40/40 [==============================] - 0s 2ms/step - loss: 0.0185 - mae: 0.1074 - val_loss: 0.0182 - val_mae: 0.1075\n",
      "Epoch 8/50\n",
      "40/40 [==============================] - 0s 2ms/step - loss: 0.0182 - mae: 0.1067 - val_loss: 0.0181 - val_mae: 0.1074\n",
      "Epoch 9/50\n",
      "40/40 [==============================] - 0s 2ms/step - loss: 0.0180 - mae: 0.1060 - val_loss: 0.0178 - val_mae: 0.1062\n",
      "Epoch 10/50\n",
      "40/40 [==============================] - 0s 2ms/step - loss: 0.0180 - mae: 0.1059 - val_loss: 0.0182 - val_mae: 0.1078\n",
      "Epoch 11/50\n",
      "40/40 [==============================] - 0s 2ms/step - loss: 0.0179 - mae: 0.1054 - val_loss: 0.0180 - val_mae: 0.1071\n",
      "Epoch 12/50\n",
      "40/40 [==============================] - 0s 2ms/step - loss: 0.0178 - mae: 0.1052 - val_loss: 0.0179 - val_mae: 0.1066\n",
      "Epoch 13/50\n",
      "40/40 [==============================] - 0s 2ms/step - loss: 0.0177 - mae: 0.1048 - val_loss: 0.0175 - val_mae: 0.1049\n",
      "Epoch 14/50\n",
      "40/40 [==============================] - 0s 2ms/step - loss: 0.0176 - mae: 0.1044 - val_loss: 0.0177 - val_mae: 0.1056\n",
      "Epoch 15/50\n",
      "40/40 [==============================] - 0s 2ms/step - loss: 0.0177 - mae: 0.1048 - val_loss: 0.0175 - val_mae: 0.1047\n",
      "Epoch 16/50\n",
      "40/40 [==============================] - 0s 2ms/step - loss: 0.0176 - mae: 0.1044 - val_loss: 0.0174 - val_mae: 0.1045\n",
      "Epoch 17/50\n",
      "40/40 [==============================] - 0s 2ms/step - loss: 0.0175 - mae: 0.1038 - val_loss: 0.0173 - val_mae: 0.1043\n",
      "Epoch 18/50\n",
      "40/40 [==============================] - 0s 2ms/step - loss: 0.0175 - mae: 0.1039 - val_loss: 0.0174 - val_mae: 0.1046\n",
      "Epoch 19/50\n",
      "40/40 [==============================] - 0s 2ms/step - loss: 0.0176 - mae: 0.1041 - val_loss: 0.0178 - val_mae: 0.1060\n",
      "Epoch 20/50\n",
      "40/40 [==============================] - 0s 2ms/step - loss: 0.0174 - mae: 0.1036 - val_loss: 0.0174 - val_mae: 0.1043\n",
      "Epoch 21/50\n",
      "40/40 [==============================] - 0s 2ms/step - loss: 0.0174 - mae: 0.1035 - val_loss: 0.0177 - val_mae: 0.1055\n",
      "Epoch 22/50\n",
      "40/40 [==============================] - 0s 2ms/step - loss: 0.0175 - mae: 0.1037 - val_loss: 0.0173 - val_mae: 0.1039\n",
      "Epoch 23/50\n",
      "40/40 [==============================] - 0s 2ms/step - loss: 0.0174 - mae: 0.1037 - val_loss: 0.0181 - val_mae: 0.1068\n",
      "Epoch 24/50\n",
      "40/40 [==============================] - 0s 2ms/step - loss: 0.0175 - mae: 0.1037 - val_loss: 0.0175 - val_mae: 0.1045\n",
      "Epoch 25/50\n",
      "40/40 [==============================] - 0s 2ms/step - loss: 0.0174 - mae: 0.1035 - val_loss: 0.0175 - val_mae: 0.1047\n",
      "Epoch 26/50\n",
      "40/40 [==============================] - 0s 2ms/step - loss: 0.0174 - mae: 0.1034 - val_loss: 0.0173 - val_mae: 0.1036\n",
      "Epoch 27/50\n",
      "40/40 [==============================] - 0s 2ms/step - loss: 0.0173 - mae: 0.1033 - val_loss: 0.0174 - val_mae: 0.1041\n",
      "Epoch 28/50\n",
      "40/40 [==============================] - 0s 2ms/step - loss: 0.0174 - mae: 0.1036 - val_loss: 0.0173 - val_mae: 0.1039\n",
      "Epoch 29/50\n",
      "40/40 [==============================] - 0s 2ms/step - loss: 0.0174 - mae: 0.1030 - val_loss: 0.0172 - val_mae: 0.1033\n",
      "Epoch 30/50\n",
      "40/40 [==============================] - 0s 2ms/step - loss: 0.0173 - mae: 0.1034 - val_loss: 0.0176 - val_mae: 0.1049\n",
      "Epoch 31/50\n",
      "40/40 [==============================] - 0s 2ms/step - loss: 0.0173 - mae: 0.1028 - val_loss: 0.0174 - val_mae: 0.1042\n",
      "Epoch 32/50\n",
      "40/40 [==============================] - 0s 2ms/step - loss: 0.0173 - mae: 0.1033 - val_loss: 0.0173 - val_mae: 0.1038\n",
      "Epoch 33/50\n",
      "40/40 [==============================] - 0s 2ms/step - loss: 0.0173 - mae: 0.1032 - val_loss: 0.0172 - val_mae: 0.1035\n",
      "Epoch 34/50\n",
      "40/40 [==============================] - 0s 2ms/step - loss: 0.0173 - mae: 0.1030 - val_loss: 0.0174 - val_mae: 0.1041\n",
      "Epoch 35/50\n",
      "40/40 [==============================] - 0s 2ms/step - loss: 0.0172 - mae: 0.1027 - val_loss: 0.0186 - val_mae: 0.1089\n",
      "Epoch 36/50\n",
      "40/40 [==============================] - 0s 2ms/step - loss: 0.0172 - mae: 0.1027 - val_loss: 0.0172 - val_mae: 0.1030\n",
      "Epoch 37/50\n",
      "40/40 [==============================] - 0s 2ms/step - loss: 0.0173 - mae: 0.1031 - val_loss: 0.0172 - val_mae: 0.1030\n",
      "Epoch 38/50\n",
      "40/40 [==============================] - 0s 2ms/step - loss: 0.0173 - mae: 0.1029 - val_loss: 0.0174 - val_mae: 0.1039\n",
      "Epoch 39/50\n",
      "40/40 [==============================] - 0s 2ms/step - loss: 0.0172 - mae: 0.1026 - val_loss: 0.0177 - val_mae: 0.1052\n",
      "Epoch 40/50\n",
      "40/40 [==============================] - 0s 2ms/step - loss: 0.0172 - mae: 0.1026 - val_loss: 0.0171 - val_mae: 0.1029\n",
      "Epoch 41/50\n",
      "40/40 [==============================] - 0s 2ms/step - loss: 0.0173 - mae: 0.1030 - val_loss: 0.0171 - val_mae: 0.1030\n",
      "Epoch 42/50\n",
      "40/40 [==============================] - 0s 2ms/step - loss: 0.0173 - mae: 0.1028 - val_loss: 0.0173 - val_mae: 0.1036\n",
      "Epoch 43/50\n",
      "40/40 [==============================] - 0s 2ms/step - loss: 0.0173 - mae: 0.1028 - val_loss: 0.0172 - val_mae: 0.1033\n",
      "Epoch 44/50\n",
      "40/40 [==============================] - 0s 2ms/step - loss: 0.0172 - mae: 0.1027 - val_loss: 0.0171 - val_mae: 0.1031\n",
      "Epoch 45/50\n",
      "40/40 [==============================] - 0s 2ms/step - loss: 0.0172 - mae: 0.1028 - val_loss: 0.0171 - val_mae: 0.1027\n",
      "Epoch 46/50\n",
      "40/40 [==============================] - 0s 2ms/step - loss: 0.0172 - mae: 0.1025 - val_loss: 0.0173 - val_mae: 0.1033\n",
      "Epoch 47/50\n",
      "40/40 [==============================] - 0s 2ms/step - loss: 0.0172 - mae: 0.1029 - val_loss: 0.0171 - val_mae: 0.1029\n",
      "Epoch 48/50\n",
      "40/40 [==============================] - 0s 2ms/step - loss: 0.0172 - mae: 0.1026 - val_loss: 0.0172 - val_mae: 0.1035\n",
      "Epoch 49/50\n",
      "40/40 [==============================] - 0s 2ms/step - loss: 0.0172 - mae: 0.1023 - val_loss: 0.0172 - val_mae: 0.1032\n",
      "Epoch 50/50\n",
      "40/40 [==============================] - 0s 2ms/step - loss: 0.0172 - mae: 0.1027 - val_loss: 0.0174 - val_mae: 0.1042\n"
     ]
    }
   ],
   "metadata": {}
  },
  {
   "cell_type": "code",
   "execution_count": 25,
   "source": [
    "acc = history.history['mae']\r\n",
    "val_acc = history.history['val_mae']\r\n",
    "loss = history.history['loss']\r\n",
    "val_loss = history.history['val_loss']\r\n",
    "epochs = range(1, len(acc) + 1)\r\n",
    "# \"bo\" is for \"blue dot\"\r\n",
    "plt.plot(epochs, loss, 'bo', label='Training loss')\r\n",
    "# b is for \"solid blue line\"\r\n",
    "plt.plot(epochs, val_loss, 'b', label='Validation loss')\r\n",
    "plt.title('Training and validation loss')\r\n",
    "plt.xlabel('Epochs')\r\n",
    "plt.ylabel('Loss')\r\n",
    "plt.legend()\r\n",
    "plt.show()"
   ],
   "outputs": [
    {
     "output_type": "display_data",
     "data": {
      "image/png": "[encoded data removed]",
      "text/plain": [
       "<Figure size 432x288 with 1 Axes>"
      ]
     },
     "metadata": {
      "needs_background": "light"
     }
    }
   ],
   "metadata": {}
  },
  {
   "cell_type": "code",
   "execution_count": 26,
   "source": [
    "test_mse_score, test_mae_score = model.evaluate(test_data, test_targets)"
   ],
   "outputs": [
    {
     "output_type": "stream",
     "name": "stdout",
     "text": [
      "63/63 [==============================] - 0s 2ms/step - loss: 0.0173 - mae: 0.1017\n"
     ]
    }
   ],
   "metadata": {}
  },
  {
   "cell_type": "code",
   "execution_count": 27,
   "source": [
    "model.save('points_prediction.h5')"
   ],
   "outputs": [],
   "metadata": {}
  },
  {
   "cell_type": "code",
   "execution_count": null,
   "source": [],
   "outputs": [],
   "metadata": {}
  }
 ],
 "metadata": {
  "orig_nbformat": 4,
  "language_info": {
   "name": "python",
   "version": "3.7.7",
   "mimetype": "text/x-python",
   "codemirror_mode": {
    "name": "ipython",
    "version": 3
   },
   "pygments_lexer": "ipython3",
   "nbconvert_exporter": "python",
   "file_extension": ".py"
  },
  "kernelspec": {
   "name": "python3",
   "display_name": "Python 3.7.7 64-bit"
  },
  "interpreter": {
   "hash": "4b1a161e248d60afddd56587ca44e79f8ca6e65a76b88ff81d78f2846b2ccfdc"
  }
 },
 "nbformat": 4,
 "nbformat_minor": 2
}