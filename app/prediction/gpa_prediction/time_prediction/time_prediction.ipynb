{
 "cells": [
  {
   "cell_type": "code",
   "execution_count": 24,
   "source": [
    "import os\r\n",
    "import os.path as path\r\n",
    "import numpy as np\r\n",
    "import pandas as pd \r\n",
    "import matplotlib.pyplot as plt \r\n",
    "from tensorflow.keras import layers, models, optimizers, regularizers\r\n",
    "from tensorflow.keras.models import load_model"
   ],
   "outputs": [],
   "metadata": {}
  },
  {
   "cell_type": "code",
   "execution_count": 25,
   "source": [
    "current_dir = os.path.join(os.getcwd())\r\n",
    "file = os.path.join(path.dirname(path.dirname(current_dir)), \"generate_data\\data_gpa.csv\")\r\n",
    "myData = pd.read_csv(file, delimiter=',', usecols=['gpa','credit','time','difficulty', 'points'])\r\n",
    "my_data_copy = myData\r\n",
    "myData.shape"
   ],
   "outputs": [
    {
     "output_type": "execute_result",
     "data": {
      "text/plain": [
       "(9144, 5)"
      ]
     },
     "metadata": {},
     "execution_count": 25
    }
   ],
   "metadata": {}
  },
  {
   "cell_type": "code",
   "execution_count": 26,
   "source": [
    "myData[\"gpa\"] = myData[\"gpa\"].values / 4\r\n",
    "myData[\"credit\"] = myData[\"credit\"].values / 6\r\n",
    "myData[\"time\"] = myData[\"time\"].values / 6\r\n",
    "myData [\"difficulty\"] = myData['difficulty'].values / 5\r\n",
    "myData[\"points\"] = myData[\"points\"].values / 4"
   ],
   "outputs": [],
   "metadata": {}
  },
  {
   "cell_type": "code",
   "execution_count": 27,
   "source": [
    "df = pd.DataFrame(myData)\r\n",
    "df = df.sample(frac=1)\r\n",
    "\r\n",
    "myData = df"
   ],
   "outputs": [],
   "metadata": {}
  },
  {
   "cell_type": "code",
   "execution_count": 28,
   "source": [
    "targets = myData[['time']].values\r\n",
    "myData.drop(('time'), axis=1, inplace=True)\r\n",
    "data = myData.values\r\n",
    "\r\n",
    "print(targets.shape)\r\n",
    "print(data.shape)"
   ],
   "outputs": [
    {
     "output_type": "stream",
     "name": "stdout",
     "text": [
      "(9144, 1)\n",
      "(9144, 4)\n"
     ]
    }
   ],
   "metadata": {}
  },
  {
   "cell_type": "code",
   "execution_count": 29,
   "source": [
    "train_data = data[0 : 4000]\r\n",
    "test_data = data[4000: 6000]\r\n",
    "val_data = data[6000:8000]\r\n",
    "\r\n",
    "train_targets = targets[0 : 4000]\r\n",
    "test_targets = targets[4000: 6000]\r\n",
    "val_targets = targets[6000 :8000]\r\n",
    "\r\n",
    "print(len(train_data) + len(test_data) + len(val_data))\r\n",
    "print(len(train_targets) + len(test_targets) + len(val_targets))"
   ],
   "outputs": [
    {
     "output_type": "stream",
     "name": "stdout",
     "text": [
      "8000\n",
      "8000\n"
     ]
    }
   ],
   "metadata": {}
  },
  {
   "cell_type": "code",
   "execution_count": 35,
   "source": [
    "model = models.Sequential()\r\n",
    "model.add(layers.Dense(8, activation=\"relu\", input_shape=(train_data.shape[1],)))\r\n",
    "# model.add(layers.Dropout(0.5))\r\n",
    "model.add(layers.Dense(8, activation=\"relu\"))\r\n",
    "# model.add(layers.Dropout(0.5))\r\n",
    "model.add(layers.Dense(8, activation=\"relu\"))\r\n",
    "# model.add(layers.Dropout(0.5))\r\n",
    "model.add(layers.Dense(8, activation=\"relu\"))\r\n",
    "model.add(layers.Dense(8, activation=\"relu\"))\r\n",
    "# model.add(layers.Dense(32, activation=\"relu\"))\r\n",
    "# model.add(layers.Dense(32, activation=\"relu\"))\r\n",
    "# model.add(layers.Dense(32, activation=\"relu\"))\r\n",
    "model.add(layers.Dense(1))\r\n",
    "\r\n",
    "model.summary()"
   ],
   "outputs": [
    {
     "output_type": "stream",
     "name": "stdout",
     "text": [
      "Model: \"sequential_3\"\n",
      "_________________________________________________________________\n",
      "Layer (type)                 Output Shape              Param #   \n",
      "=================================================================\n",
      "dense_18 (Dense)             (None, 8)                 40        \n",
      "_________________________________________________________________\n",
      "dense_19 (Dense)             (None, 8)                 72        \n",
      "_________________________________________________________________\n",
      "dense_20 (Dense)             (None, 8)                 72        \n",
      "_________________________________________________________________\n",
      "dense_21 (Dense)             (None, 8)                 72        \n",
      "_________________________________________________________________\n",
      "dense_22 (Dense)             (None, 8)                 72        \n",
      "_________________________________________________________________\n",
      "dense_23 (Dense)             (None, 1)                 9         \n",
      "=================================================================\n",
      "Total params: 337\n",
      "Trainable params: 337\n",
      "Non-trainable params: 0\n",
      "_________________________________________________________________\n"
     ]
    }
   ],
   "metadata": {}
  },
  {
   "cell_type": "code",
   "execution_count": 36,
   "source": [
    "model.compile(\r\n",
    "    optimizer=optimizers.RMSprop(learning_rate=2e-4),\r\n",
    "    loss=\"mse\",\r\n",
    "    metrics=['mae']\r\n",
    "    )"
   ],
   "outputs": [],
   "metadata": {}
  },
  {
   "cell_type": "code",
   "execution_count": 37,
   "source": [
    "history = model.fit(train_data,\r\n",
    "                    train_targets,\r\n",
    "                    epochs=50,\r\n",
    "                    batch_size=100,\r\n",
    "                    validation_data=(val_data, val_targets)\r\n",
    "                    )"
   ],
   "outputs": [
    {
     "output_type": "stream",
     "name": "stdout",
     "text": [
      "Epoch 1/50\n",
      "40/40 [==============================] - 1s 5ms/step - loss: 0.0823 - mae: 0.2444 - val_loss: 0.0662 - val_mae: 0.2110\n",
      "Epoch 2/50\n",
      "40/40 [==============================] - 0s 2ms/step - loss: 0.0473 - mae: 0.1709 - val_loss: 0.0339 - val_mae: 0.1384\n",
      "Epoch 3/50\n",
      "40/40 [==============================] - 0s 2ms/step - loss: 0.0256 - mae: 0.1176 - val_loss: 0.0211 - val_mae: 0.1064\n",
      "Epoch 4/50\n",
      "40/40 [==============================] - 0s 2ms/step - loss: 0.0184 - mae: 0.1022 - val_loss: 0.0182 - val_mae: 0.1033\n",
      "Epoch 5/50\n",
      "40/40 [==============================] - 0s 2ms/step - loss: 0.0173 - mae: 0.1015 - val_loss: 0.0175 - val_mae: 0.1022\n",
      "Epoch 6/50\n",
      "40/40 [==============================] - 0s 2ms/step - loss: 0.0168 - mae: 0.0997 - val_loss: 0.0170 - val_mae: 0.1018\n",
      "Epoch 7/50\n",
      "40/40 [==============================] - 0s 1ms/step - loss: 0.0163 - mae: 0.0989 - val_loss: 0.0166 - val_mae: 0.0997\n",
      "Epoch 8/50\n",
      "40/40 [==============================] - 0s 2ms/step - loss: 0.0158 - mae: 0.0972 - val_loss: 0.0161 - val_mae: 0.0978\n",
      "Epoch 9/50\n",
      "40/40 [==============================] - 0s 1ms/step - loss: 0.0154 - mae: 0.0955 - val_loss: 0.0157 - val_mae: 0.0975\n",
      "Epoch 10/50\n",
      "40/40 [==============================] - 0s 2ms/step - loss: 0.0150 - mae: 0.0943 - val_loss: 0.0153 - val_mae: 0.0963\n",
      "Epoch 11/50\n",
      "40/40 [==============================] - 0s 1ms/step - loss: 0.0146 - mae: 0.0932 - val_loss: 0.0150 - val_mae: 0.0953\n",
      "Epoch 12/50\n",
      "40/40 [==============================] - 0s 2ms/step - loss: 0.0143 - mae: 0.0922 - val_loss: 0.0147 - val_mae: 0.0939\n",
      "Epoch 13/50\n",
      "40/40 [==============================] - 0s 2ms/step - loss: 0.0140 - mae: 0.0912 - val_loss: 0.0145 - val_mae: 0.0939\n",
      "Epoch 14/50\n",
      "40/40 [==============================] - 0s 1ms/step - loss: 0.0138 - mae: 0.0908 - val_loss: 0.0144 - val_mae: 0.0911\n",
      "Epoch 15/50\n",
      "40/40 [==============================] - 0s 2ms/step - loss: 0.0136 - mae: 0.0899 - val_loss: 0.0141 - val_mae: 0.0917\n",
      "Epoch 16/50\n",
      "40/40 [==============================] - 0s 2ms/step - loss: 0.0134 - mae: 0.0894 - val_loss: 0.0139 - val_mae: 0.0913\n",
      "Epoch 17/50\n",
      "40/40 [==============================] - 0s 2ms/step - loss: 0.0133 - mae: 0.0889 - val_loss: 0.0137 - val_mae: 0.0914\n",
      "Epoch 18/50\n",
      "40/40 [==============================] - 0s 2ms/step - loss: 0.0131 - mae: 0.0885 - val_loss: 0.0136 - val_mae: 0.0914\n",
      "Epoch 19/50\n",
      "40/40 [==============================] - 0s 2ms/step - loss: 0.0130 - mae: 0.0882 - val_loss: 0.0135 - val_mae: 0.0902\n",
      "Epoch 20/50\n",
      "40/40 [==============================] - 0s 2ms/step - loss: 0.0129 - mae: 0.0880 - val_loss: 0.0134 - val_mae: 0.0892\n",
      "Epoch 21/50\n",
      "40/40 [==============================] - 0s 2ms/step - loss: 0.0129 - mae: 0.0876 - val_loss: 0.0133 - val_mae: 0.0889\n",
      "Epoch 22/50\n",
      "40/40 [==============================] - 0s 2ms/step - loss: 0.0128 - mae: 0.0872 - val_loss: 0.0132 - val_mae: 0.0890\n",
      "Epoch 23/50\n",
      "40/40 [==============================] - 0s 2ms/step - loss: 0.0127 - mae: 0.0870 - val_loss: 0.0131 - val_mae: 0.0890\n",
      "Epoch 24/50\n",
      "40/40 [==============================] - 0s 2ms/step - loss: 0.0127 - mae: 0.0868 - val_loss: 0.0131 - val_mae: 0.0890\n",
      "Epoch 25/50\n",
      "40/40 [==============================] - 0s 2ms/step - loss: 0.0126 - mae: 0.0867 - val_loss: 0.0131 - val_mae: 0.0877\n",
      "Epoch 26/50\n",
      "40/40 [==============================] - 0s 2ms/step - loss: 0.0126 - mae: 0.0865 - val_loss: 0.0130 - val_mae: 0.0878\n",
      "Epoch 27/50\n",
      "40/40 [==============================] - 0s 2ms/step - loss: 0.0125 - mae: 0.0864 - val_loss: 0.0129 - val_mae: 0.0884\n",
      "Epoch 28/50\n",
      "40/40 [==============================] - 0s 2ms/step - loss: 0.0125 - mae: 0.0865 - val_loss: 0.0129 - val_mae: 0.0871\n",
      "Epoch 29/50\n",
      "40/40 [==============================] - 0s 2ms/step - loss: 0.0124 - mae: 0.0861 - val_loss: 0.0129 - val_mae: 0.0884\n",
      "Epoch 30/50\n",
      "40/40 [==============================] - 0s 2ms/step - loss: 0.0124 - mae: 0.0862 - val_loss: 0.0128 - val_mae: 0.0882\n",
      "Epoch 31/50\n",
      "40/40 [==============================] - 0s 2ms/step - loss: 0.0124 - mae: 0.0861 - val_loss: 0.0128 - val_mae: 0.0874\n",
      "Epoch 32/50\n",
      "40/40 [==============================] - 0s 2ms/step - loss: 0.0124 - mae: 0.0860 - val_loss: 0.0128 - val_mae: 0.0872\n",
      "Epoch 33/50\n",
      "40/40 [==============================] - 0s 2ms/step - loss: 0.0123 - mae: 0.0859 - val_loss: 0.0127 - val_mae: 0.0876\n",
      "Epoch 34/50\n",
      "40/40 [==============================] - 0s 2ms/step - loss: 0.0123 - mae: 0.0860 - val_loss: 0.0127 - val_mae: 0.0871\n",
      "Epoch 35/50\n",
      "40/40 [==============================] - 0s 2ms/step - loss: 0.0123 - mae: 0.0857 - val_loss: 0.0127 - val_mae: 0.0876\n",
      "Epoch 36/50\n",
      "40/40 [==============================] - 0s 2ms/step - loss: 0.0123 - mae: 0.0858 - val_loss: 0.0127 - val_mae: 0.0870\n",
      "Epoch 37/50\n",
      "40/40 [==============================] - 0s 2ms/step - loss: 0.0123 - mae: 0.0858 - val_loss: 0.0127 - val_mae: 0.0863\n",
      "Epoch 38/50\n",
      "40/40 [==============================] - 0s 2ms/step - loss: 0.0122 - mae: 0.0856 - val_loss: 0.0126 - val_mae: 0.0866\n",
      "Epoch 39/50\n",
      "40/40 [==============================] - 0s 2ms/step - loss: 0.0122 - mae: 0.0855 - val_loss: 0.0127 - val_mae: 0.0864\n",
      "Epoch 40/50\n",
      "40/40 [==============================] - 0s 2ms/step - loss: 0.0122 - mae: 0.0855 - val_loss: 0.0127 - val_mae: 0.0860\n",
      "Epoch 41/50\n",
      "40/40 [==============================] - 0s 2ms/step - loss: 0.0122 - mae: 0.0854 - val_loss: 0.0126 - val_mae: 0.0866\n",
      "Epoch 42/50\n",
      "40/40 [==============================] - 0s 2ms/step - loss: 0.0122 - mae: 0.0855 - val_loss: 0.0126 - val_mae: 0.0864\n",
      "Epoch 43/50\n",
      "40/40 [==============================] - 0s 2ms/step - loss: 0.0122 - mae: 0.0854 - val_loss: 0.0126 - val_mae: 0.0862\n",
      "Epoch 44/50\n",
      "40/40 [==============================] - 0s 2ms/step - loss: 0.0122 - mae: 0.0853 - val_loss: 0.0125 - val_mae: 0.0863\n",
      "Epoch 45/50\n",
      "40/40 [==============================] - 0s 2ms/step - loss: 0.0121 - mae: 0.0851 - val_loss: 0.0125 - val_mae: 0.0868\n",
      "Epoch 46/50\n",
      "40/40 [==============================] - 0s 2ms/step - loss: 0.0121 - mae: 0.0853 - val_loss: 0.0125 - val_mae: 0.0858\n",
      "Epoch 47/50\n",
      "40/40 [==============================] - 0s 2ms/step - loss: 0.0121 - mae: 0.0851 - val_loss: 0.0125 - val_mae: 0.0859\n",
      "Epoch 48/50\n",
      "40/40 [==============================] - 0s 2ms/step - loss: 0.0121 - mae: 0.0848 - val_loss: 0.0126 - val_mae: 0.0879\n",
      "Epoch 49/50\n",
      "40/40 [==============================] - 0s 2ms/step - loss: 0.0121 - mae: 0.0851 - val_loss: 0.0125 - val_mae: 0.0859\n",
      "Epoch 50/50\n",
      "40/40 [==============================] - 0s 2ms/step - loss: 0.0121 - mae: 0.0850 - val_loss: 0.0124 - val_mae: 0.0861\n"
     ]
    }
   ],
   "metadata": {}
  },
  {
   "cell_type": "code",
   "execution_count": 38,
   "source": [
    "acc = history.history['mae']\r\n",
    "val_acc = history.history['val_mae']\r\n",
    "loss = history.history['loss']\r\n",
    "val_loss = history.history['val_loss']\r\n",
    "epochs = range(1, len(acc) + 1)\r\n",
    "# \"bo\" is for \"blue dot\"\r\n",
    "plt.plot(epochs, loss, 'bo', label='Training loss')\r\n",
    "# b is for \"solid blue line\"\r\n",
    "plt.plot(epochs, val_loss, 'b', label='Validation loss')\r\n",
    "plt.title('Training and validation loss')\r\n",
    "plt.xlabel('Epochs')\r\n",
    "plt.ylabel('Loss')\r\n",
    "plt.legend()\r\n",
    "plt.show()"
   ],
   "outputs": [
    {
     "output_type": "display_data",
     "data": {
      "image/png": "[encoded data removed]",
      "text/plain": [
       "<Figure size 432x288 with 1 Axes>"
      ]
     },
     "metadata": {
      "needs_background": "light"
     }
    }
   ],
   "metadata": {}
  },
  {
   "cell_type": "code",
   "execution_count": 39,
   "source": [
    "test_mse_score, test_mae_score = model.evaluate(test_data, test_targets)"
   ],
   "outputs": [
    {
     "output_type": "stream",
     "name": "stdout",
     "text": [
      "63/63 [==============================] - 0s 2ms/step - loss: 0.0125 - mae: 0.0865\n"
     ]
    }
   ],
   "metadata": {}
  },
  {
   "cell_type": "code",
   "execution_count": 12,
   "source": [
    "predicted = model.predict([[0.8425, 1, 0.8, 0.75]])\r\n",
    "predicted   "
   ],
   "outputs": [
    {
     "output_type": "execute_result",
     "data": {
      "text/plain": [
       "array([[0.29608813]], dtype=float32)"
      ]
     },
     "metadata": {},
     "execution_count": 12
    }
   ],
   "metadata": {}
  },
  {
   "cell_type": "code",
   "execution_count": 40,
   "source": [
    "model.save('time_prediction.h5')"
   ],
   "outputs": [],
   "metadata": {}
  },
  {
   "cell_type": "code",
   "execution_count": null,
   "source": [],
   "outputs": [],
   "metadata": {}
  }
 ],
 "metadata": {
  "orig_nbformat": 4,
  "language_info": {
   "name": "python",
   "version": "3.7.7",
   "mimetype": "text/x-python",
   "codemirror_mode": {
    "name": "ipython",
    "version": 3
   },
   "pygments_lexer": "ipython3",
   "nbconvert_exporter": "python",
   "file_extension": ".py"
  },
  "kernelspec": {
   "name": "python3",
   "display_name": "Python 3.7.7 64-bit"
  },
  "interpreter": {
   "hash": "4b1a161e248d60afddd56587ca44e79f8ca6e65a76b88ff81d78f2846b2ccfdc"
  }
 },
 "nbformat": 4,
 "nbformat_minor": 2
}