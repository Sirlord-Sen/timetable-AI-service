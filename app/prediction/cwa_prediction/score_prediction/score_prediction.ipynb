{
 "cells": [
  {
   "cell_type": "code",
   "execution_count": 4,
   "source": [
    "import os\r\n",
    "import os.path as path\r\n",
    "import numpy as np\r\n",
    "import pandas as pd \r\n",
    "# import matplotlib.pyplot as plt \r\n",
    "from tensorflow.keras import layers, models, optimizers, regularizers\r\n",
    "from tensorflow.keras.models import load_model"
   ],
   "outputs": [],
   "metadata": {}
  },
  {
   "cell_type": "code",
   "execution_count": 2,
   "source": [
    "current_dir = os.path.join(os.getcwd())\r\n",
    "file = os.path.join(path.dirname(path.dirname(current_dir)), \"generate_data\\data_cwa.csv\")\r\n",
    "myData = pd.read_csv(file, delimiter=',', usecols=['cwa','credit','time','difficulty', 'score'])\r\n",
    "my_data_copy = myData\r\n",
    "myData.shape"
   ],
   "outputs": [
    {
     "output_type": "execute_result",
     "data": {
      "text/plain": [
       "(180346, 5)"
      ]
     },
     "metadata": {},
     "execution_count": 2
    }
   ],
   "metadata": {}
  },
  {
   "cell_type": "code",
   "execution_count": 3,
   "source": [
    "myData[\"score\"] = myData[\"score\"].values / 100\r\n",
    "myData[\"cwa\"] = myData[\"cwa\"].values / 100\r\n",
    "myData[\"credit\"] = myData[\"credit\"].values / 10\r\n",
    "myData [\"difficulty\"] = myData['difficulty'].values / 5\r\n",
    "myData[\"time\"] = myData[\"time\"].values / 6"
   ],
   "outputs": [],
   "metadata": {}
  },
  {
   "cell_type": "code",
   "execution_count": 4,
   "source": [
    "df = pd.DataFrame(myData)\r\n",
    "df = df.sample(frac=1)\r\n",
    "\r\n",
    "myData = df\r\n"
   ],
   "outputs": [],
   "metadata": {}
  },
  {
   "cell_type": "code",
   "execution_count": 5,
   "source": [
    "myData"
   ],
   "outputs": [
    {
     "output_type": "execute_result",
     "data": {
      "text/html": [
       "<div>\n",
       "<style scoped>\n",
       "    .dataframe tbody tr th:only-of-type {\n",
       "        vertical-align: middle;\n",
       "    }\n",
       "\n",
       "    .dataframe tbody tr th {\n",
       "        vertical-align: top;\n",
       "    }\n",
       "\n",
       "    .dataframe thead th {\n",
       "        text-align: right;\n",
       "    }\n",
       "</style>\n",
       "<table border=\"1\" class=\"dataframe\">\n",
       "  <thead>\n",
       "    <tr style=\"text-align: right;\">\n",
       "      <th></th>\n",
       "      <th>cwa</th>\n",
       "      <th>credit</th>\n",
       "      <th>time</th>\n",
       "      <th>difficulty</th>\n",
       "      <th>score</th>\n",
       "    </tr>\n",
       "  </thead>\n",
       "  <tbody>\n",
       "    <tr>\n",
       "      <th>119974</th>\n",
       "      <td>0.5862</td>\n",
       "      <td>0.1</td>\n",
       "      <td>0.208333</td>\n",
       "      <td>0.8</td>\n",
       "      <td>0.49</td>\n",
       "    </tr>\n",
       "    <tr>\n",
       "      <th>177651</th>\n",
       "      <td>0.3889</td>\n",
       "      <td>0.4</td>\n",
       "      <td>0.166667</td>\n",
       "      <td>1.0</td>\n",
       "      <td>0.49</td>\n",
       "    </tr>\n",
       "    <tr>\n",
       "      <th>57922</th>\n",
       "      <td>0.6525</td>\n",
       "      <td>0.1</td>\n",
       "      <td>0.250000</td>\n",
       "      <td>1.0</td>\n",
       "      <td>0.57</td>\n",
       "    </tr>\n",
       "    <tr>\n",
       "      <th>130276</th>\n",
       "      <td>0.5571</td>\n",
       "      <td>0.2</td>\n",
       "      <td>0.125000</td>\n",
       "      <td>0.2</td>\n",
       "      <td>0.47</td>\n",
       "    </tr>\n",
       "    <tr>\n",
       "      <th>49831</th>\n",
       "      <td>0.6517</td>\n",
       "      <td>0.4</td>\n",
       "      <td>0.208333</td>\n",
       "      <td>0.2</td>\n",
       "      <td>0.57</td>\n",
       "    </tr>\n",
       "    <tr>\n",
       "      <th>...</th>\n",
       "      <td>...</td>\n",
       "      <td>...</td>\n",
       "      <td>...</td>\n",
       "      <td>...</td>\n",
       "      <td>...</td>\n",
       "    </tr>\n",
       "    <tr>\n",
       "      <th>117316</th>\n",
       "      <td>0.5626</td>\n",
       "      <td>0.2</td>\n",
       "      <td>0.125000</td>\n",
       "      <td>0.2</td>\n",
       "      <td>0.42</td>\n",
       "    </tr>\n",
       "    <tr>\n",
       "      <th>102238</th>\n",
       "      <td>0.6109</td>\n",
       "      <td>0.3</td>\n",
       "      <td>0.166667</td>\n",
       "      <td>0.8</td>\n",
       "      <td>0.54</td>\n",
       "    </tr>\n",
       "    <tr>\n",
       "      <th>118929</th>\n",
       "      <td>0.5504</td>\n",
       "      <td>0.3</td>\n",
       "      <td>0.166667</td>\n",
       "      <td>0.6</td>\n",
       "      <td>0.58</td>\n",
       "    </tr>\n",
       "    <tr>\n",
       "      <th>77623</th>\n",
       "      <td>0.6149</td>\n",
       "      <td>0.4</td>\n",
       "      <td>0.250000</td>\n",
       "      <td>0.8</td>\n",
       "      <td>0.56</td>\n",
       "    </tr>\n",
       "    <tr>\n",
       "      <th>140828</th>\n",
       "      <td>0.5124</td>\n",
       "      <td>0.1</td>\n",
       "      <td>0.041667</td>\n",
       "      <td>0.4</td>\n",
       "      <td>0.31</td>\n",
       "    </tr>\n",
       "  </tbody>\n",
       "</table>\n",
       "<p>180346 rows × 5 columns</p>\n",
       "</div>"
      ],
      "text/plain": [
       "           cwa  credit      time  difficulty  score\n",
       "119974  0.5862     0.1  0.208333         0.8   0.49\n",
       "177651  0.3889     0.4  0.166667         1.0   0.49\n",
       "57922   0.6525     0.1  0.250000         1.0   0.57\n",
       "130276  0.5571     0.2  0.125000         0.2   0.47\n",
       "49831   0.6517     0.4  0.208333         0.2   0.57\n",
       "...        ...     ...       ...         ...    ...\n",
       "117316  0.5626     0.2  0.125000         0.2   0.42\n",
       "102238  0.6109     0.3  0.166667         0.8   0.54\n",
       "118929  0.5504     0.3  0.166667         0.6   0.58\n",
       "77623   0.6149     0.4  0.250000         0.8   0.56\n",
       "140828  0.5124     0.1  0.041667         0.4   0.31\n",
       "\n",
       "[180346 rows x 5 columns]"
      ]
     },
     "metadata": {},
     "execution_count": 5
    }
   ],
   "metadata": {}
  },
  {
   "cell_type": "code",
   "execution_count": 6,
   "source": [
    "targets = myData[['score']].values\r\n",
    "myData.drop(('score'), axis=1, inplace=True)\r\n",
    "data = myData.values\r\n",
    "\r\n",
    "print(targets.shape)\r\n",
    "print(data.shape)"
   ],
   "outputs": [
    {
     "output_type": "stream",
     "name": "stdout",
     "text": [
      "(180346, 1)\n",
      "(180346, 4)\n"
     ]
    }
   ],
   "metadata": {}
  },
  {
   "cell_type": "code",
   "execution_count": 7,
   "source": [
    "num_train = int(0.5 * len(data)) \r\n",
    "num_val = int(0.25 * len(data))\r\n",
    "num_test = int(0.25 * len(data))"
   ],
   "outputs": [],
   "metadata": {}
  },
  {
   "cell_type": "code",
   "execution_count": 8,
   "source": [
    "train_data = data[0 : num_train]\r\n",
    "test_data = data[num_train: num_train + num_test]\r\n",
    "val_data = data[num_train + num_test:]\r\n",
    "\r\n",
    "train_targets = targets[0 : num_train]\r\n",
    "test_targets = targets[num_train: num_train + num_test]\r\n",
    "val_targets = targets[num_train + num_test:]\r\n",
    "\r\n",
    "print(len(train_data) + len(test_data) + len(val_data))\r\n",
    "print(len(train_targets) + len(test_targets) + len(val_targets))"
   ],
   "outputs": [
    {
     "output_type": "stream",
     "name": "stdout",
     "text": [
      "180346\n",
      "180346\n"
     ]
    }
   ],
   "metadata": {}
  },
  {
   "cell_type": "code",
   "execution_count": 9,
   "source": [
    "model = models.Sequential()\r\n",
    "model.add(layers.Dense(1, activation=\"relu\",input_shape=(train_data.shape[1],)))\r\n",
    "# model.add(layers.Dense(1, activation=\"relu\"))\r\n",
    "# model.add(layers.Dropout(0.5))\r\n",
    "# model.add(layers.Dense(1, activation=\"relu\", kernel_regularizer=regularizers.l2(0.01)))\r\n",
    "# model.add(layers.Dropout(0.5))\r\n",
    "model.add(layers.Dense(1))\r\n",
    "\r\n",
    "model.summary()"
   ],
   "outputs": [
    {
     "output_type": "stream",
     "name": "stdout",
     "text": [
      "Model: \"sequential\"\n",
      "_________________________________________________________________\n",
      "Layer (type)                 Output Shape              Param #   \n",
      "=================================================================\n",
      "dense (Dense)                (None, 1)                 5         \n",
      "_________________________________________________________________\n",
      "dense_1 (Dense)              (None, 1)                 2         \n",
      "=================================================================\n",
      "Total params: 7\n",
      "Trainable params: 7\n",
      "Non-trainable params: 0\n",
      "_________________________________________________________________\n"
     ]
    }
   ],
   "metadata": {}
  },
  {
   "cell_type": "code",
   "execution_count": 10,
   "source": [
    "model.compile(\r\n",
    "    optimizer=optimizers.RMSprop(learning_rate=2e-4),\r\n",
    "    loss=\"mse\",\r\n",
    "    metrics=['mae']\r\n",
    "    )"
   ],
   "outputs": [],
   "metadata": {}
  },
  {
   "cell_type": "code",
   "execution_count": 11,
   "source": [
    "history = model.fit(train_data,\r\n",
    "                    train_targets,\r\n",
    "                    epochs=40,\r\n",
    "                    batch_size=512,\r\n",
    "                    validation_data=(val_data, val_targets)\r\n",
    "                    )"
   ],
   "outputs": [
    {
     "output_type": "stream",
     "name": "stdout",
     "text": [
      "Epoch 1/40\n",
      "177/177 [==============================] - 1s 2ms/step - loss: 0.1839 - mae: 0.3634 - val_loss: 0.1528 - val_mae: 0.3250\n",
      "Epoch 2/40\n",
      "177/177 [==============================] - 0s 1ms/step - loss: 0.1350 - mae: 0.3026 - val_loss: 0.1214 - val_mae: 0.2849\n",
      "Epoch 3/40\n",
      "177/177 [==============================] - 0s 1ms/step - loss: 0.1123 - mae: 0.2727 - val_loss: 0.1044 - val_mae: 0.2621\n",
      "Epoch 4/40\n",
      "177/177 [==============================] - 0s 1ms/step - loss: 0.0978 - mae: 0.2529 - val_loss: 0.0919 - val_mae: 0.2451\n",
      "Epoch 5/40\n",
      "177/177 [==============================] - 0s 1ms/step - loss: 0.0860 - mae: 0.2367 - val_loss: 0.0808 - val_mae: 0.2295\n",
      "Epoch 6/40\n",
      "177/177 [==============================] - 0s 1ms/step - loss: 0.0755 - mae: 0.2213 - val_loss: 0.0707 - val_mae: 0.2144\n",
      "Epoch 7/40\n",
      "177/177 [==============================] - 0s 1ms/step - loss: 0.0659 - mae: 0.2065 - val_loss: 0.0616 - val_mae: 0.2000\n",
      "Epoch 8/40\n",
      "177/177 [==============================] - 0s 1ms/step - loss: 0.0572 - mae: 0.1924 - val_loss: 0.0535 - val_mae: 0.1863\n",
      "Epoch 9/40\n",
      "177/177 [==============================] - 0s 1ms/step - loss: 0.0497 - mae: 0.1791 - val_loss: 0.0464 - val_mae: 0.1733\n",
      "Epoch 10/40\n",
      "177/177 [==============================] - 0s 1ms/step - loss: 0.0430 - mae: 0.1666 - val_loss: 0.0402 - val_mae: 0.1612\n",
      "Epoch 11/40\n",
      "177/177 [==============================] - 0s 1ms/step - loss: 0.0372 - mae: 0.1549 - val_loss: 0.0348 - val_mae: 0.1499\n",
      "Epoch 12/40\n",
      "177/177 [==============================] - 0s 1ms/step - loss: 0.0322 - mae: 0.1440 - val_loss: 0.0301 - val_mae: 0.1395\n",
      "Epoch 13/40\n",
      "177/177 [==============================] - 0s 1ms/step - loss: 0.0280 - mae: 0.1340 - val_loss: 0.0262 - val_mae: 0.1298\n",
      "Epoch 14/40\n",
      "177/177 [==============================] - 0s 1ms/step - loss: 0.0243 - mae: 0.1248 - val_loss: 0.0228 - val_mae: 0.1210\n",
      "Epoch 15/40\n",
      "177/177 [==============================] - 0s 1ms/step - loss: 0.0212 - mae: 0.1165 - val_loss: 0.0200 - val_mae: 0.1131\n",
      "Epoch 16/40\n",
      "177/177 [==============================] - 0s 1ms/step - loss: 0.0186 - mae: 0.1090 - val_loss: 0.0176 - val_mae: 0.1061\n",
      "Epoch 17/40\n",
      "177/177 [==============================] - 0s 1ms/step - loss: 0.0165 - mae: 0.1024 - val_loss: 0.0156 - val_mae: 0.0999\n",
      "Epoch 18/40\n",
      "177/177 [==============================] - 0s 1ms/step - loss: 0.0147 - mae: 0.0966 - val_loss: 0.0140 - val_mae: 0.0944\n",
      "Epoch 19/40\n",
      "177/177 [==============================] - 0s 1ms/step - loss: 0.0132 - mae: 0.0916 - val_loss: 0.0126 - val_mae: 0.0897\n",
      "Epoch 20/40\n",
      "177/177 [==============================] - 0s 1ms/step - loss: 0.0119 - mae: 0.0871 - val_loss: 0.0115 - val_mae: 0.0855\n",
      "Epoch 21/40\n",
      "177/177 [==============================] - 0s 1ms/step - loss: 0.0109 - mae: 0.0832 - val_loss: 0.0105 - val_mae: 0.0817\n",
      "Epoch 22/40\n",
      "177/177 [==============================] - 0s 1ms/step - loss: 0.0100 - mae: 0.0799 - val_loss: 0.0097 - val_mae: 0.0787\n",
      "Epoch 23/40\n",
      "177/177 [==============================] - 0s 1ms/step - loss: 0.0093 - mae: 0.0772 - val_loss: 0.0091 - val_mae: 0.0764\n",
      "Epoch 24/40\n",
      "177/177 [==============================] - 0s 1ms/step - loss: 0.0088 - mae: 0.0753 - val_loss: 0.0087 - val_mae: 0.0746\n",
      "Epoch 25/40\n",
      "177/177 [==============================] - 0s 1ms/step - loss: 0.0084 - mae: 0.0737 - val_loss: 0.0083 - val_mae: 0.0732\n",
      "Epoch 26/40\n",
      "177/177 [==============================] - 0s 1ms/step - loss: 0.0082 - mae: 0.0725 - val_loss: 0.0080 - val_mae: 0.0720\n",
      "Epoch 27/40\n",
      "177/177 [==============================] - 0s 1ms/step - loss: 0.0079 - mae: 0.0714 - val_loss: 0.0078 - val_mae: 0.0710\n",
      "Epoch 28/40\n",
      "177/177 [==============================] - 0s 1ms/step - loss: 0.0077 - mae: 0.0705 - val_loss: 0.0076 - val_mae: 0.0702\n",
      "Epoch 29/40\n",
      "177/177 [==============================] - 0s 1ms/step - loss: 0.0075 - mae: 0.0697 - val_loss: 0.0074 - val_mae: 0.0694\n",
      "Epoch 30/40\n",
      "177/177 [==============================] - 0s 1ms/step - loss: 0.0074 - mae: 0.0690 - val_loss: 0.0073 - val_mae: 0.0688\n",
      "Epoch 31/40\n",
      "177/177 [==============================] - 0s 1ms/step - loss: 0.0072 - mae: 0.0684 - val_loss: 0.0072 - val_mae: 0.0682\n",
      "Epoch 32/40\n",
      "177/177 [==============================] - 0s 1ms/step - loss: 0.0071 - mae: 0.0679 - val_loss: 0.0071 - val_mae: 0.0677\n",
      "Epoch 33/40\n",
      "177/177 [==============================] - 0s 1ms/step - loss: 0.0070 - mae: 0.0675 - val_loss: 0.0070 - val_mae: 0.0674\n",
      "Epoch 34/40\n",
      "177/177 [==============================] - 0s 1ms/step - loss: 0.0069 - mae: 0.0672 - val_loss: 0.0069 - val_mae: 0.0670\n",
      "Epoch 35/40\n",
      "177/177 [==============================] - 0s 1ms/step - loss: 0.0069 - mae: 0.0669 - val_loss: 0.0068 - val_mae: 0.0667\n",
      "Epoch 36/40\n",
      "177/177 [==============================] - 0s 1ms/step - loss: 0.0068 - mae: 0.0666 - val_loss: 0.0068 - val_mae: 0.0665\n",
      "Epoch 37/40\n",
      "177/177 [==============================] - 0s 1ms/step - loss: 0.0068 - mae: 0.0664 - val_loss: 0.0067 - val_mae: 0.0663\n",
      "Epoch 38/40\n",
      "177/177 [==============================] - 0s 1ms/step - loss: 0.0067 - mae: 0.0662 - val_loss: 0.0067 - val_mae: 0.0661\n",
      "Epoch 39/40\n",
      "177/177 [==============================] - 0s 1ms/step - loss: 0.0067 - mae: 0.0660 - val_loss: 0.0067 - val_mae: 0.0659\n",
      "Epoch 40/40\n",
      "177/177 [==============================] - 0s 1ms/step - loss: 0.0067 - mae: 0.0658 - val_loss: 0.0066 - val_mae: 0.0657\n"
     ]
    }
   ],
   "metadata": {}
  },
  {
   "cell_type": "code",
   "execution_count": 12,
   "source": [
    "acc = history.history['mae']\r\n",
    "val_acc = history.history['val_mae']\r\n",
    "loss = history.history['loss']\r\n",
    "val_loss = history.history['val_loss']\r\n",
    "epochs = range(1, len(acc) + 1)\r\n",
    "# \"bo\" is for \"blue dot\"\r\n",
    "plt.plot(epochs, loss, 'bo', label='Training loss')\r\n",
    "# b is for \"solid blue line\"\r\n",
    "plt.plot(epochs, val_loss, 'b', label='Validation loss')\r\n",
    "plt.title('Training and validation loss')\r\n",
    "plt.xlabel('Epochs')\r\n",
    "plt.ylabel('Loss')\r\n",
    "plt.legend()\r\n",
    "plt.show()"
   ],
   "outputs": [
    {
     "output_type": "display_data",
     "data": {
      "image/png": "[encoded data removed]",
      "text/plain": [
       "<Figure size 432x288 with 1 Axes>"
      ]
     },
     "metadata": {
      "needs_background": "light"
     }
    }
   ],
   "metadata": {}
  },
  {
   "cell_type": "code",
   "execution_count": 1,
   "source": [
    "model.save('score_prediction_2.h5')"
   ],
   "outputs": [
    {
     "output_type": "error",
     "ename": "NameError",
     "evalue": "name 'model' is not defined",
     "traceback": [
      "\u001b[1;31m---------------------------------------------------------------------------\u001b[0m",
      "\u001b[1;31mNameError\u001b[0m                                 Traceback (most recent call last)",
      "\u001b[1;32m~\\AppData\\Local\\Temp/ipykernel_2776/3517504619.py\u001b[0m in \u001b[0;36m<module>\u001b[1;34m\u001b[0m\n\u001b[1;32m----> 1\u001b[1;33m \u001b[0mmodel\u001b[0m\u001b[1;33m.\u001b[0m\u001b[0msave\u001b[0m\u001b[1;33m(\u001b[0m\u001b[1;34m'score_prediction.h5'\u001b[0m\u001b[1;33m)\u001b[0m\u001b[1;33m\u001b[0m\u001b[1;33m\u001b[0m\u001b[0m\n\u001b[0m",
      "\u001b[1;31mNameError\u001b[0m: name 'model' is not defined"
     ]
    }
   ],
   "metadata": {}
  },
  {
   "cell_type": "code",
   "execution_count": 14,
   "source": [
    "test_mse_score, test_mae_score = model.evaluate(test_data, test_targets)"
   ],
   "outputs": [
    {
     "output_type": "stream",
     "name": "stdout",
     "text": [
      "1409/1409 [==============================] - 1s 776us/step - loss: 0.0067 - mae: 0.0660\n"
     ]
    }
   ],
   "metadata": {}
  },
  {
   "cell_type": "code",
   "execution_count": 7,
   "source": [
    "model = load_model('score_prediction_1.h5')"
   ],
   "outputs": [],
   "metadata": {}
  },
  {
   "cell_type": "code",
   "execution_count": 8,
   "source": [
    "predicted = model.predict([[0.8081, 0.1, 0.458333, 0.2]])\r\n",
    "predicted   "
   ],
   "outputs": [
    {
     "output_type": "execute_result",
     "data": {
      "text/plain": [
       "array([[0.8345965]], dtype=float32)"
      ]
     },
     "metadata": {},
     "execution_count": 8
    }
   ],
   "metadata": {}
  },
  {
   "cell_type": "code",
   "execution_count": null,
   "source": [],
   "outputs": [],
   "metadata": {}
  }
 ],
 "metadata": {
  "orig_nbformat": 4,
  "language_info": {
   "name": "python",
   "version": "3.8.2",
   "mimetype": "text/x-python",
   "codemirror_mode": {
    "name": "ipython",
    "version": 3
   },
   "pygments_lexer": "ipython3",
   "nbconvert_exporter": "python",
   "file_extension": ".py"
  },
  "kernelspec": {
   "name": "python3",
   "display_name": "Python 3.8.2 64-bit"
  },
  "interpreter": {
   "hash": "03c114e59dc80d0203cb1afe62eec95438b7df16036ee1f227d042493a378334"
  }
 },
 "nbformat": 4,
 "nbformat_minor": 2
}