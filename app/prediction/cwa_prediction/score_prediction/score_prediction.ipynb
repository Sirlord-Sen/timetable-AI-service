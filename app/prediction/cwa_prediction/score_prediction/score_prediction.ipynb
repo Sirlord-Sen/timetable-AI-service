{
 "cells": [
  {
   "cell_type": "code",
   "execution_count": 1,
   "source": [
    "import os\r\n",
    "import os.path as path\r\n",
    "import numpy as np\r\n",
    "import pandas as pd \r\n",
    "import matplotlib.pyplot as plt \r\n",
    "from tensorflow.keras import layers, models, optimizers, regularizers\r\n",
    "from tensorflow.keras.models import load_model"
   ],
   "outputs": [],
   "metadata": {}
  },
  {
   "cell_type": "code",
   "execution_count": 2,
   "source": [
    "current_dir = os.path.join(os.getcwd())\r\n",
    "file = os.path.join(path.dirname(path.dirname(current_dir)), \"generate_data\\data_cwa.csv\")\r\n",
    "myData = pd.read_csv(file, delimiter=',', usecols=['cwa','credit','time','difficulty', 'score'])\r\n",
    "my_data_copy = myData\r\n",
    "myData.shape"
   ],
   "outputs": [
    {
     "output_type": "execute_result",
     "data": {
      "text/plain": [
       "(180346, 5)"
      ]
     },
     "metadata": {},
     "execution_count": 2
    }
   ],
   "metadata": {}
  },
  {
   "cell_type": "code",
   "execution_count": 3,
   "source": [
    "myData[\"score\"] = myData[\"score\"].values / 100\r\n",
    "myData[\"cwa\"] = myData[\"cwa\"].values / 100\r\n",
    "myData[\"credit\"] = myData[\"credit\"].values / 6\r\n",
    "myData [\"difficulty\"] = myData['difficulty'].values / 5\r\n",
    "myData[\"time\"] = myData[\"time\"].values / 6"
   ],
   "outputs": [],
   "metadata": {}
  },
  {
   "cell_type": "code",
   "execution_count": 4,
   "source": [
    "df = pd.DataFrame(myData)\r\n",
    "df = df.sample(frac=1)\r\n",
    "\r\n",
    "myData = df\r\n"
   ],
   "outputs": [],
   "metadata": {}
  },
  {
   "cell_type": "code",
   "execution_count": 5,
   "source": [
    "myData"
   ],
   "outputs": [
    {
     "output_type": "execute_result",
     "data": {
      "text/html": [
       "<div>\n",
       "<style scoped>\n",
       "    .dataframe tbody tr th:only-of-type {\n",
       "        vertical-align: middle;\n",
       "    }\n",
       "\n",
       "    .dataframe tbody tr th {\n",
       "        vertical-align: top;\n",
       "    }\n",
       "\n",
       "    .dataframe thead th {\n",
       "        text-align: right;\n",
       "    }\n",
       "</style>\n",
       "<table border=\"1\" class=\"dataframe\">\n",
       "  <thead>\n",
       "    <tr style=\"text-align: right;\">\n",
       "      <th></th>\n",
       "      <th>cwa</th>\n",
       "      <th>credit</th>\n",
       "      <th>time</th>\n",
       "      <th>difficulty</th>\n",
       "      <th>score</th>\n",
       "    </tr>\n",
       "  </thead>\n",
       "  <tbody>\n",
       "    <tr>\n",
       "      <th>82352</th>\n",
       "      <td>0.6078</td>\n",
       "      <td>0.333333</td>\n",
       "      <td>0.208333</td>\n",
       "      <td>0.2</td>\n",
       "      <td>0.63</td>\n",
       "    </tr>\n",
       "    <tr>\n",
       "      <th>90062</th>\n",
       "      <td>0.6220</td>\n",
       "      <td>0.333333</td>\n",
       "      <td>0.416667</td>\n",
       "      <td>1.0</td>\n",
       "      <td>0.64</td>\n",
       "    </tr>\n",
       "    <tr>\n",
       "      <th>69548</th>\n",
       "      <td>0.6190</td>\n",
       "      <td>0.500000</td>\n",
       "      <td>0.208333</td>\n",
       "      <td>1.0</td>\n",
       "      <td>0.55</td>\n",
       "    </tr>\n",
       "    <tr>\n",
       "      <th>15313</th>\n",
       "      <td>0.7866</td>\n",
       "      <td>0.166667</td>\n",
       "      <td>0.416667</td>\n",
       "      <td>0.2</td>\n",
       "      <td>0.86</td>\n",
       "    </tr>\n",
       "    <tr>\n",
       "      <th>152298</th>\n",
       "      <td>0.5113</td>\n",
       "      <td>0.500000</td>\n",
       "      <td>0.166667</td>\n",
       "      <td>0.4</td>\n",
       "      <td>0.71</td>\n",
       "    </tr>\n",
       "    <tr>\n",
       "      <th>...</th>\n",
       "      <td>...</td>\n",
       "      <td>...</td>\n",
       "      <td>...</td>\n",
       "      <td>...</td>\n",
       "      <td>...</td>\n",
       "    </tr>\n",
       "    <tr>\n",
       "      <th>46130</th>\n",
       "      <td>0.6656</td>\n",
       "      <td>0.333333</td>\n",
       "      <td>0.250000</td>\n",
       "      <td>1.0</td>\n",
       "      <td>0.65</td>\n",
       "    </tr>\n",
       "    <tr>\n",
       "      <th>5339</th>\n",
       "      <td>0.8022</td>\n",
       "      <td>0.166667</td>\n",
       "      <td>0.375000</td>\n",
       "      <td>0.6</td>\n",
       "      <td>0.90</td>\n",
       "    </tr>\n",
       "    <tr>\n",
       "      <th>111865</th>\n",
       "      <td>0.5585</td>\n",
       "      <td>0.166667</td>\n",
       "      <td>0.250000</td>\n",
       "      <td>0.8</td>\n",
       "      <td>0.70</td>\n",
       "    </tr>\n",
       "    <tr>\n",
       "      <th>13896</th>\n",
       "      <td>0.7703</td>\n",
       "      <td>0.333333</td>\n",
       "      <td>0.750000</td>\n",
       "      <td>0.8</td>\n",
       "      <td>0.90</td>\n",
       "    </tr>\n",
       "    <tr>\n",
       "      <th>67898</th>\n",
       "      <td>0.6385</td>\n",
       "      <td>0.333333</td>\n",
       "      <td>0.208333</td>\n",
       "      <td>0.6</td>\n",
       "      <td>0.61</td>\n",
       "    </tr>\n",
       "  </tbody>\n",
       "</table>\n",
       "<p>180346 rows × 5 columns</p>\n",
       "</div>"
      ],
      "text/plain": [
       "           cwa    credit      time  difficulty  score\n",
       "82352   0.6078  0.333333  0.208333         0.2   0.63\n",
       "90062   0.6220  0.333333  0.416667         1.0   0.64\n",
       "69548   0.6190  0.500000  0.208333         1.0   0.55\n",
       "15313   0.7866  0.166667  0.416667         0.2   0.86\n",
       "152298  0.5113  0.500000  0.166667         0.4   0.71\n",
       "...        ...       ...       ...         ...    ...\n",
       "46130   0.6656  0.333333  0.250000         1.0   0.65\n",
       "5339    0.8022  0.166667  0.375000         0.6   0.90\n",
       "111865  0.5585  0.166667  0.250000         0.8   0.70\n",
       "13896   0.7703  0.333333  0.750000         0.8   0.90\n",
       "67898   0.6385  0.333333  0.208333         0.6   0.61\n",
       "\n",
       "[180346 rows x 5 columns]"
      ]
     },
     "metadata": {},
     "execution_count": 5
    }
   ],
   "metadata": {}
  },
  {
   "cell_type": "code",
   "execution_count": 6,
   "source": [
    "targets = myData[['score']].values\r\n",
    "myData.drop(('score'), axis=1, inplace=True)\r\n",
    "data = myData.values\r\n",
    "\r\n",
    "print(targets.shape)\r\n",
    "print(data.shape)"
   ],
   "outputs": [
    {
     "output_type": "stream",
     "name": "stdout",
     "text": [
      "(180346, 1)\n",
      "(180346, 4)\n"
     ]
    }
   ],
   "metadata": {}
  },
  {
   "cell_type": "code",
   "execution_count": 7,
   "source": [
    "num_train = int(0.5 * len(data)) \r\n",
    "num_val = int(0.25 * len(data))\r\n",
    "num_test = int(0.25 * len(data))"
   ],
   "outputs": [],
   "metadata": {}
  },
  {
   "cell_type": "code",
   "execution_count": 8,
   "source": [
    "train_data = data[0 : num_train]\r\n",
    "test_data = data[num_train: num_train + num_test]\r\n",
    "val_data = data[num_train + num_test:]\r\n",
    "\r\n",
    "train_targets = targets[0 : num_train]\r\n",
    "test_targets = targets[num_train: num_train + num_test]\r\n",
    "val_targets = targets[num_train + num_test:]\r\n",
    "\r\n",
    "print(len(train_data) + len(test_data) + len(val_data))\r\n",
    "print(len(train_targets) + len(test_targets) + len(val_targets))"
   ],
   "outputs": [
    {
     "output_type": "stream",
     "name": "stdout",
     "text": [
      "180346\n",
      "180346\n"
     ]
    }
   ],
   "metadata": {}
  },
  {
   "cell_type": "code",
   "execution_count": 37,
   "source": [
    "model = models.Sequential()\r\n",
    "model.add(layers.Dense(128, activation=\"relu\", input_shape=(train_data.shape[1],)))\r\n",
    "# model.add(layers.Dropout(0.5))\r\n",
    "model.add(layers.Dense(64, activation=\"relu\"))\r\n",
    "# model.add(layers.Dropout(0.5))\r\n",
    "model.add(layers.Dense(64, activation=\"relu\"))\r\n",
    "# model.add(layers.Dropout(0.5))\r\n",
    "model.add(layers.Dense(1))\r\n",
    "\r\n",
    "model.summary()"
   ],
   "outputs": [
    {
     "output_type": "stream",
     "name": "stdout",
     "text": [
      "Model: \"sequential_5\"\n",
      "_________________________________________________________________\n",
      "Layer (type)                 Output Shape              Param #   \n",
      "=================================================================\n",
      "dense_20 (Dense)             (None, 128)               640       \n",
      "_________________________________________________________________\n",
      "dense_21 (Dense)             (None, 64)                8256      \n",
      "_________________________________________________________________\n",
      "dense_22 (Dense)             (None, 64)                4160      \n",
      "_________________________________________________________________\n",
      "dense_23 (Dense)             (None, 1)                 65        \n",
      "=================================================================\n",
      "Total params: 13,121\n",
      "Trainable params: 13,121\n",
      "Non-trainable params: 0\n",
      "_________________________________________________________________\n"
     ]
    }
   ],
   "metadata": {}
  },
  {
   "cell_type": "code",
   "execution_count": 38,
   "source": [
    "model.compile(\r\n",
    "    optimizer=optimizers.RMSprop(learning_rate=2e-4),\r\n",
    "    loss=\"mse\",\r\n",
    "    metrics=['mae']\r\n",
    "    )"
   ],
   "outputs": [],
   "metadata": {}
  },
  {
   "cell_type": "code",
   "execution_count": 39,
   "source": [
    "history = model.fit(train_data,\r\n",
    "                    train_targets,\r\n",
    "                    epochs=40,\r\n",
    "                    batch_size=512,\r\n",
    "                    validation_data=(val_data, val_targets)\r\n",
    "                    )"
   ],
   "outputs": [
    {
     "output_type": "stream",
     "name": "stdout",
     "text": [
      "Epoch 1/40\n",
      "177/177 [==============================] - 1s 4ms/step - loss: 0.0343 - mae: 0.1280 - val_loss: 0.0065 - val_mae: 0.0655\n",
      "Epoch 2/40\n",
      "177/177 [==============================] - 0s 2ms/step - loss: 0.0063 - mae: 0.0641 - val_loss: 0.0065 - val_mae: 0.0657\n",
      "Epoch 3/40\n",
      "177/177 [==============================] - 0s 3ms/step - loss: 0.0062 - mae: 0.0638 - val_loss: 0.0069 - val_mae: 0.0681\n",
      "Epoch 4/40\n",
      "177/177 [==============================] - 0s 2ms/step - loss: 0.0062 - mae: 0.0636 - val_loss: 0.0061 - val_mae: 0.0630\n",
      "Epoch 5/40\n",
      "177/177 [==============================] - 0s 2ms/step - loss: 0.0062 - mae: 0.0635 - val_loss: 0.0064 - val_mae: 0.0652\n",
      "Epoch 6/40\n",
      "177/177 [==============================] - 1s 3ms/step - loss: 0.0062 - mae: 0.0634 - val_loss: 0.0066 - val_mae: 0.0662\n",
      "Epoch 7/40\n",
      "177/177 [==============================] - 0s 2ms/step - loss: 0.0061 - mae: 0.0632 - val_loss: 0.0062 - val_mae: 0.0632\n",
      "Epoch 8/40\n",
      "177/177 [==============================] - 0s 2ms/step - loss: 0.0061 - mae: 0.0633 - val_loss: 0.0066 - val_mae: 0.0649\n",
      "Epoch 9/40\n",
      "177/177 [==============================] - 0s 2ms/step - loss: 0.0061 - mae: 0.0631 - val_loss: 0.0062 - val_mae: 0.0638\n",
      "Epoch 10/40\n",
      "177/177 [==============================] - 0s 2ms/step - loss: 0.0061 - mae: 0.0631 - val_loss: 0.0063 - val_mae: 0.0647\n",
      "Epoch 11/40\n",
      "177/177 [==============================] - 0s 2ms/step - loss: 0.0061 - mae: 0.0629 - val_loss: 0.0066 - val_mae: 0.0659\n",
      "Epoch 12/40\n",
      "177/177 [==============================] - 0s 2ms/step - loss: 0.0061 - mae: 0.0629 - val_loss: 0.0060 - val_mae: 0.0622\n",
      "Epoch 13/40\n",
      "177/177 [==============================] - 0s 2ms/step - loss: 0.0061 - mae: 0.0628 - val_loss: 0.0062 - val_mae: 0.0630\n",
      "Epoch 14/40\n",
      "177/177 [==============================] - 0s 2ms/step - loss: 0.0060 - mae: 0.0627 - val_loss: 0.0059 - val_mae: 0.0620\n",
      "Epoch 15/40\n",
      "177/177 [==============================] - 0s 2ms/step - loss: 0.0060 - mae: 0.0625 - val_loss: 0.0060 - val_mae: 0.0631\n",
      "Epoch 16/40\n",
      "177/177 [==============================] - 0s 2ms/step - loss: 0.0060 - mae: 0.0626 - val_loss: 0.0059 - val_mae: 0.0621\n",
      "Epoch 17/40\n",
      "177/177 [==============================] - 0s 2ms/step - loss: 0.0060 - mae: 0.0624 - val_loss: 0.0062 - val_mae: 0.0632\n",
      "Epoch 18/40\n",
      "177/177 [==============================] - 0s 2ms/step - loss: 0.0060 - mae: 0.0624 - val_loss: 0.0059 - val_mae: 0.0622\n",
      "Epoch 19/40\n",
      "177/177 [==============================] - 0s 3ms/step - loss: 0.0060 - mae: 0.0624 - val_loss: 0.0065 - val_mae: 0.0645\n",
      "Epoch 20/40\n",
      "177/177 [==============================] - 0s 3ms/step - loss: 0.0060 - mae: 0.0623 - val_loss: 0.0060 - val_mae: 0.0625\n",
      "Epoch 21/40\n",
      "177/177 [==============================] - 0s 2ms/step - loss: 0.0060 - mae: 0.0623 - val_loss: 0.0059 - val_mae: 0.0618\n",
      "Epoch 22/40\n",
      "177/177 [==============================] - 0s 2ms/step - loss: 0.0060 - mae: 0.0622 - val_loss: 0.0058 - val_mae: 0.0615\n",
      "Epoch 23/40\n",
      "177/177 [==============================] - 0s 2ms/step - loss: 0.0059 - mae: 0.0622 - val_loss: 0.0059 - val_mae: 0.0620\n",
      "Epoch 24/40\n",
      "177/177 [==============================] - 0s 2ms/step - loss: 0.0059 - mae: 0.0622 - val_loss: 0.0058 - val_mae: 0.0614\n",
      "Epoch 25/40\n",
      "177/177 [==============================] - 0s 2ms/step - loss: 0.0059 - mae: 0.0621 - val_loss: 0.0064 - val_mae: 0.0642\n",
      "Epoch 26/40\n",
      "177/177 [==============================] - 0s 2ms/step - loss: 0.0059 - mae: 0.0621 - val_loss: 0.0060 - val_mae: 0.0627\n",
      "Epoch 27/40\n",
      "177/177 [==============================] - 0s 2ms/step - loss: 0.0059 - mae: 0.0620 - val_loss: 0.0058 - val_mae: 0.0617\n",
      "Epoch 28/40\n",
      "177/177 [==============================] - 0s 2ms/step - loss: 0.0059 - mae: 0.0621 - val_loss: 0.0067 - val_mae: 0.0667\n",
      "Epoch 29/40\n",
      "177/177 [==============================] - 0s 2ms/step - loss: 0.0059 - mae: 0.0621 - val_loss: 0.0059 - val_mae: 0.0624\n",
      "Epoch 30/40\n",
      "177/177 [==============================] - 0s 2ms/step - loss: 0.0059 - mae: 0.0619 - val_loss: 0.0058 - val_mae: 0.0618\n",
      "Epoch 31/40\n",
      "177/177 [==============================] - 0s 2ms/step - loss: 0.0059 - mae: 0.0620 - val_loss: 0.0059 - val_mae: 0.0624\n",
      "Epoch 32/40\n",
      "177/177 [==============================] - 0s 2ms/step - loss: 0.0059 - mae: 0.0620 - val_loss: 0.0058 - val_mae: 0.0613\n",
      "Epoch 33/40\n",
      "177/177 [==============================] - 0s 2ms/step - loss: 0.0059 - mae: 0.0620 - val_loss: 0.0061 - val_mae: 0.0633\n",
      "Epoch 34/40\n",
      "177/177 [==============================] - 0s 2ms/step - loss: 0.0059 - mae: 0.0619 - val_loss: 0.0059 - val_mae: 0.0619\n",
      "Epoch 35/40\n",
      "177/177 [==============================] - 0s 3ms/step - loss: 0.0059 - mae: 0.0620 - val_loss: 0.0062 - val_mae: 0.0635\n",
      "Epoch 36/40\n",
      "177/177 [==============================] - 1s 3ms/step - loss: 0.0059 - mae: 0.0619 - val_loss: 0.0058 - val_mae: 0.0613\n",
      "Epoch 37/40\n",
      "177/177 [==============================] - 0s 2ms/step - loss: 0.0059 - mae: 0.0619 - val_loss: 0.0063 - val_mae: 0.0640\n",
      "Epoch 38/40\n",
      "177/177 [==============================] - 0s 2ms/step - loss: 0.0059 - mae: 0.0619 - val_loss: 0.0058 - val_mae: 0.0613\n",
      "Epoch 39/40\n",
      "177/177 [==============================] - 0s 2ms/step - loss: 0.0059 - mae: 0.0619 - val_loss: 0.0058 - val_mae: 0.0614\n",
      "Epoch 40/40\n",
      "177/177 [==============================] - 0s 2ms/step - loss: 0.0059 - mae: 0.0618 - val_loss: 0.0058 - val_mae: 0.0613\n"
     ]
    }
   ],
   "metadata": {}
  },
  {
   "cell_type": "code",
   "execution_count": 40,
   "source": [
    "acc = history.history['mae']\r\n",
    "val_acc = history.history['val_mae']\r\n",
    "loss = history.history['loss']\r\n",
    "val_loss = history.history['val_loss']\r\n",
    "epochs = range(1, len(acc) + 1)\r\n",
    "# \"bo\" is for \"blue dot\"\r\n",
    "plt.plot(epochs, loss, 'bo', label='Training loss')\r\n",
    "# b is for \"solid blue line\"\r\n",
    "plt.plot(epochs, val_loss, 'b', label='Validation loss')\r\n",
    "plt.title('Training and validation loss')\r\n",
    "plt.xlabel('Epochs')\r\n",
    "plt.ylabel('Loss')\r\n",
    "plt.legend()\r\n",
    "plt.show()"
   ],
   "outputs": [
    {
     "output_type": "display_data",
     "data": {
      "image/png": "[encoded data removed]",
      "text/plain": [
       "<Figure size 432x288 with 1 Axes>"
      ]
     },
     "metadata": {
      "needs_background": "light"
     }
    }
   ],
   "metadata": {}
  },
  {
   "cell_type": "code",
   "execution_count": 41,
   "source": [
    "test_mse_score, test_mae_score = model.evaluate(test_data, test_targets)"
   ],
   "outputs": [
    {
     "output_type": "stream",
     "name": "stdout",
     "text": [
      "1409/1409 [==============================] - 1s 926us/step - loss: 0.0059 - mae: 0.0617\n"
     ]
    }
   ],
   "metadata": {}
  },
  {
   "cell_type": "code",
   "execution_count": 42,
   "source": [
    "model.save('score_prediction_2.h5')"
   ],
   "outputs": [],
   "metadata": {}
  },
  {
   "cell_type": "code",
   "execution_count": 51,
   "source": [
    "model = load_model('score_prediction.h5')"
   ],
   "outputs": [],
   "metadata": {}
  },
  {
   "cell_type": "code",
   "execution_count": 53,
   "source": [
    "predicted = model.predict([[0.8081, 0.666667, 0.33333, 0.2]])\r\n",
    "predicted   "
   ],
   "outputs": [
    {
     "output_type": "execute_result",
     "data": {
      "text/plain": [
       "array([[0.7982243]], dtype=float32)"
      ]
     },
     "metadata": {},
     "execution_count": 53
    }
   ],
   "metadata": {}
  },
  {
   "cell_type": "code",
   "execution_count": null,
   "source": [],
   "outputs": [],
   "metadata": {}
  }
 ],
 "metadata": {
  "orig_nbformat": 4,
  "language_info": {
   "name": "python",
   "version": "3.7.7",
   "mimetype": "text/x-python",
   "codemirror_mode": {
    "name": "ipython",
    "version": 3
   },
   "pygments_lexer": "ipython3",
   "nbconvert_exporter": "python",
   "file_extension": ".py"
  },
  "kernelspec": {
   "name": "python3",
   "display_name": "Python 3.7.7 64-bit"
  },
  "interpreter": {
   "hash": "4b1a161e248d60afddd56587ca44e79f8ca6e65a76b88ff81d78f2846b2ccfdc"
  }
 },
 "nbformat": 4,
 "nbformat_minor": 2
}