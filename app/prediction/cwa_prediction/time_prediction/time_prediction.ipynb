{
 "cells": [
  {
   "cell_type": "code",
   "execution_count": 15,
   "metadata": {},
   "outputs": [],
   "source": [
    "import os\n",
    "import os.path as path\n",
    "import numpy as np\n",
    "import pandas as pd \n",
    "import matplotlib.pyplot as plt \n",
    "from tensorflow.keras import layers, models, optimizers, regularizers\n",
    "from tensorflow.keras.models import load_model"
   ]
  },
  {
   "cell_type": "code",
   "execution_count": 16,
   "metadata": {},
   "outputs": [
    {
     "data": {
      "text/plain": [
       "(180346, 5)"
      ]
     },
     "execution_count": 16,
     "metadata": {},
     "output_type": "execute_result"
    }
   ],
   "source": [
    "current_dir = os.path.join(os.getcwd())\n",
    "file = os.path.join(path.dirname(path.dirname(current_dir)), \"generate_data\\data_cwa.csv\")\n",
    "myData = pd.read_csv(file, delimiter=',', usecols=['cwa','credit','time','difficulty', 'score'])\n",
    "my_data_copy = myData\n",
    "myData.shape"
   ]
  },
  {
   "cell_type": "code",
   "execution_count": 17,
   "metadata": {},
   "outputs": [],
   "source": [
    "myData[\"score\"] = myData[\"score\"].values / 100\n",
    "myData[\"cwa\"] = myData[\"cwa\"].values / 100\n",
    "myData[\"credit\"] = myData[\"credit\"].values / 6\n",
    "myData [\"difficulty\"] = myData['difficulty'].values / 5\n",
    "myData[\"time\"] = myData[\"time\"].values / 6"
   ]
  },
  {
   "cell_type": "code",
   "execution_count": 18,
   "metadata": {},
   "outputs": [],
   "source": [
    "df = pd.DataFrame(myData)\n",
    "df = df.sample(frac=1)\n",
    "\n",
    "myData = df"
   ]
  },
  {
   "cell_type": "code",
   "execution_count": 19,
   "metadata": {},
   "outputs": [
    {
     "name": "stdout",
     "output_type": "stream",
     "text": [
      "(180346, 1)\n",
      "(180346, 4)\n"
     ]
    }
   ],
   "source": [
    "targets = myData[['time']].values\n",
    "myData.drop(('time'), axis=1, inplace=True)\n",
    "data = myData.values\n",
    "\n",
    "print(targets.shape)\n",
    "print(data.shape)"
   ]
  },
  {
   "cell_type": "code",
   "execution_count": 20,
   "metadata": {},
   "outputs": [],
   "source": [
    "# num_train = int(0.5 * len(data)) \n",
    "# num_val = int(0.25 * len(data))\n",
    "# num_test = int(0.25 * len(data))"
   ]
  },
  {
   "cell_type": "code",
   "execution_count": 21,
   "metadata": {},
   "outputs": [
    {
     "name": "stdout",
     "output_type": "stream",
     "text": [
      "4000\n",
      "4000\n"
     ]
    }
   ],
   "source": [
    "# train_data = data[0 : num_train]\n",
    "# test_data = data[num_train: num_train + num_test]\n",
    "# val_data = data[num_train + num_test:]\n",
    "\n",
    "# train_targets = targets[0 : num_train]\n",
    "# test_targets = targets[num_train: num_train + num_test]\n",
    "# val_targets = targets[num_train + num_test:]\n",
    "\n",
    "train_data = data[0 : 2000]\n",
    "test_data = data[2000: 3000]\n",
    "val_data = data[3000:4000]\n",
    "\n",
    "train_targets = targets[0 : 2000]\n",
    "test_targets = targets[2000: 3000]\n",
    "val_targets = targets[3000 :4000]\n",
    "\n",
    "print(len(train_data) + len(test_data) + len(val_data))\n",
    "print(len(train_targets) + len(test_targets) + len(val_targets))"
   ]
  },
  {
   "cell_type": "code",
   "execution_count": 22,
   "metadata": {},
   "outputs": [
    {
     "name": "stdout",
     "output_type": "stream",
     "text": [
      "Model: \"sequential_1\"\n",
      "_________________________________________________________________\n",
      "Layer (type)                 Output Shape              Param #   \n",
      "=================================================================\n",
      "dense_4 (Dense)              (None, 128)               640       \n",
      "_________________________________________________________________\n",
      "dense_5 (Dense)              (None, 128)               16512     \n",
      "_________________________________________________________________\n",
      "dense_6 (Dense)              (None, 128)               16512     \n",
      "_________________________________________________________________\n",
      "dense_7 (Dense)              (None, 1)                 129       \n",
      "=================================================================\n",
      "Total params: 33,793\n",
      "Trainable params: 33,793\n",
      "Non-trainable params: 0\n",
      "_________________________________________________________________\n"
     ]
    }
   ],
   "source": [
    "model = models.Sequential()\n",
    "model.add(layers.Dense(128, activation=\"relu\", input_shape=(train_data.shape[1],)))\n",
    "# model.add(layers.Dropout(0.5))\n",
    "model.add(layers.Dense(128, activation=\"relu\"))\n",
    "# model.add(layers.Dropout(0.5))\n",
    "model.add(layers.Dense(128, activation=\"relu\"))\n",
    "# model.add(layers.Dropout(0.5))\n",
    "model.add(layers.Dense(1))\n",
    "\n",
    "model.summary()"
   ]
  },
  {
   "cell_type": "code",
   "execution_count": 23,
   "metadata": {},
   "outputs": [],
   "source": [
    "model.compile(\n",
    "    optimizer=optimizers.RMSprop(learning_rate=2e-4),\n",
    "    loss=\"mse\",\n",
    "    metrics=['mae']\n",
    "    )"
   ]
  },
  {
   "cell_type": "code",
   "execution_count": 24,
   "metadata": {},
   "outputs": [
    {
     "name": "stdout",
     "output_type": "stream",
     "text": [
      "Epoch 1/50\n",
      "20/20 [==============================] - 1s 7ms/step - loss: 0.0386 - mae: 0.1451 - val_loss: 0.0153 - val_mae: 0.0973\n",
      "Epoch 2/50\n",
      "20/20 [==============================] - 0s 3ms/step - loss: 0.0156 - mae: 0.0986 - val_loss: 0.0137 - val_mae: 0.0932\n",
      "Epoch 3/50\n",
      "20/20 [==============================] - 0s 3ms/step - loss: 0.0142 - mae: 0.0948 - val_loss: 0.0128 - val_mae: 0.0899\n",
      "Epoch 4/50\n",
      "20/20 [==============================] - 0s 2ms/step - loss: 0.0131 - mae: 0.0908 - val_loss: 0.0119 - val_mae: 0.0870\n",
      "Epoch 5/50\n",
      "20/20 [==============================] - 0s 3ms/step - loss: 0.0123 - mae: 0.0882 - val_loss: 0.0112 - val_mae: 0.0833\n",
      "Epoch 6/50\n",
      "20/20 [==============================] - 0s 3ms/step - loss: 0.0115 - mae: 0.0845 - val_loss: 0.0106 - val_mae: 0.0802\n",
      "Epoch 7/50\n",
      "20/20 [==============================] - 0s 3ms/step - loss: 0.0109 - mae: 0.0821 - val_loss: 0.0101 - val_mae: 0.0800\n",
      "Epoch 8/50\n",
      "20/20 [==============================] - 0s 3ms/step - loss: 0.0104 - mae: 0.0799 - val_loss: 0.0104 - val_mae: 0.0831\n",
      "Epoch 9/50\n",
      "20/20 [==============================] - 0s 3ms/step - loss: 0.0099 - mae: 0.0773 - val_loss: 0.0093 - val_mae: 0.0741\n",
      "Epoch 10/50\n",
      "20/20 [==============================] - 0s 3ms/step - loss: 0.0095 - mae: 0.0758 - val_loss: 0.0091 - val_mae: 0.0756\n",
      "Epoch 11/50\n",
      "20/20 [==============================] - 0s 3ms/step - loss: 0.0092 - mae: 0.0744 - val_loss: 0.0091 - val_mae: 0.0764\n",
      "Epoch 12/50\n",
      "20/20 [==============================] - 0s 3ms/step - loss: 0.0089 - mae: 0.0732 - val_loss: 0.0084 - val_mae: 0.0703\n",
      "Epoch 13/50\n",
      "20/20 [==============================] - 0s 3ms/step - loss: 0.0087 - mae: 0.0716 - val_loss: 0.0083 - val_mae: 0.0691\n",
      "Epoch 14/50\n",
      "20/20 [==============================] - 0s 3ms/step - loss: 0.0084 - mae: 0.0699 - val_loss: 0.0080 - val_mae: 0.0683\n",
      "Epoch 15/50\n",
      "20/20 [==============================] - 0s 3ms/step - loss: 0.0083 - mae: 0.0696 - val_loss: 0.0078 - val_mae: 0.0672\n",
      "Epoch 16/50\n",
      "20/20 [==============================] - 0s 2ms/step - loss: 0.0080 - mae: 0.0681 - val_loss: 0.0077 - val_mae: 0.0669\n",
      "Epoch 17/50\n",
      "20/20 [==============================] - 0s 2ms/step - loss: 0.0080 - mae: 0.0687 - val_loss: 0.0075 - val_mae: 0.0667\n",
      "Epoch 18/50\n",
      "20/20 [==============================] - 0s 2ms/step - loss: 0.0078 - mae: 0.0675 - val_loss: 0.0074 - val_mae: 0.0665\n",
      "Epoch 19/50\n",
      "20/20 [==============================] - 0s 2ms/step - loss: 0.0077 - mae: 0.0668 - val_loss: 0.0075 - val_mae: 0.0655\n",
      "Epoch 20/50\n",
      "20/20 [==============================] - 0s 2ms/step - loss: 0.0077 - mae: 0.0670 - val_loss: 0.0073 - val_mae: 0.0657\n",
      "Epoch 21/50\n",
      "20/20 [==============================] - 0s 2ms/step - loss: 0.0076 - mae: 0.0659 - val_loss: 0.0075 - val_mae: 0.0652\n",
      "Epoch 22/50\n",
      "20/20 [==============================] - 0s 2ms/step - loss: 0.0074 - mae: 0.0658 - val_loss: 0.0074 - val_mae: 0.0646\n",
      "Epoch 23/50\n",
      "20/20 [==============================] - 0s 2ms/step - loss: 0.0075 - mae: 0.0656 - val_loss: 0.0073 - val_mae: 0.0642\n",
      "Epoch 24/50\n",
      "20/20 [==============================] - 0s 2ms/step - loss: 0.0074 - mae: 0.0648 - val_loss: 0.0070 - val_mae: 0.0647\n",
      "Epoch 25/50\n",
      "20/20 [==============================] - 0s 2ms/step - loss: 0.0072 - mae: 0.0642 - val_loss: 0.0072 - val_mae: 0.0636\n",
      "Epoch 26/50\n",
      "20/20 [==============================] - 0s 2ms/step - loss: 0.0073 - mae: 0.0648 - val_loss: 0.0069 - val_mae: 0.0638\n",
      "Epoch 27/50\n",
      "20/20 [==============================] - 0s 3ms/step - loss: 0.0071 - mae: 0.0638 - val_loss: 0.0071 - val_mae: 0.0638\n",
      "Epoch 28/50\n",
      "20/20 [==============================] - 0s 2ms/step - loss: 0.0072 - mae: 0.0642 - val_loss: 0.0068 - val_mae: 0.0639\n",
      "Epoch 29/50\n",
      "20/20 [==============================] - 0s 2ms/step - loss: 0.0072 - mae: 0.0649 - val_loss: 0.0070 - val_mae: 0.0648\n",
      "Epoch 30/50\n",
      "20/20 [==============================] - 0s 2ms/step - loss: 0.0070 - mae: 0.0635 - val_loss: 0.0068 - val_mae: 0.0637\n",
      "Epoch 31/50\n",
      "20/20 [==============================] - 0s 2ms/step - loss: 0.0071 - mae: 0.0643 - val_loss: 0.0067 - val_mae: 0.0631\n",
      "Epoch 32/50\n",
      "20/20 [==============================] - 0s 2ms/step - loss: 0.0070 - mae: 0.0636 - val_loss: 0.0085 - val_mae: 0.0712\n",
      "Epoch 33/50\n",
      "20/20 [==============================] - 0s 4ms/step - loss: 0.0071 - mae: 0.0633 - val_loss: 0.0075 - val_mae: 0.0676\n",
      "Epoch 34/50\n",
      "20/20 [==============================] - 0s 3ms/step - loss: 0.0070 - mae: 0.0639 - val_loss: 0.0068 - val_mae: 0.0622\n",
      "Epoch 35/50\n",
      "20/20 [==============================] - 0s 2ms/step - loss: 0.0069 - mae: 0.0629 - val_loss: 0.0070 - val_mae: 0.0630\n",
      "Epoch 36/50\n",
      "20/20 [==============================] - 0s 2ms/step - loss: 0.0070 - mae: 0.0632 - val_loss: 0.0067 - val_mae: 0.0625\n",
      "Epoch 37/50\n",
      "20/20 [==============================] - 0s 2ms/step - loss: 0.0069 - mae: 0.0628 - val_loss: 0.0068 - val_mae: 0.0625\n",
      "Epoch 38/50\n",
      "20/20 [==============================] - 0s 5ms/step - loss: 0.0070 - mae: 0.0633 - val_loss: 0.0067 - val_mae: 0.0621\n",
      "Epoch 39/50\n",
      "20/20 [==============================] - 0s 9ms/step - loss: 0.0069 - mae: 0.0625 - val_loss: 0.0066 - val_mae: 0.0617\n",
      "Epoch 40/50\n",
      "20/20 [==============================] - 0s 11ms/step - loss: 0.0069 - mae: 0.0631 - val_loss: 0.0071 - val_mae: 0.0657\n",
      "Epoch 41/50\n",
      "20/20 [==============================] - 0s 6ms/step - loss: 0.0068 - mae: 0.0624 - val_loss: 0.0067 - val_mae: 0.0633\n",
      "Epoch 42/50\n",
      "20/20 [==============================] - 0s 3ms/step - loss: 0.0069 - mae: 0.0630 - val_loss: 0.0069 - val_mae: 0.0628\n",
      "Epoch 43/50\n",
      "20/20 [==============================] - 0s 2ms/step - loss: 0.0066 - mae: 0.0615 - val_loss: 0.0070 - val_mae: 0.0648\n",
      "Epoch 44/50\n",
      "20/20 [==============================] - 0s 3ms/step - loss: 0.0068 - mae: 0.0622 - val_loss: 0.0065 - val_mae: 0.0616\n",
      "Epoch 45/50\n",
      "20/20 [==============================] - 0s 2ms/step - loss: 0.0069 - mae: 0.0627 - val_loss: 0.0070 - val_mae: 0.0649\n",
      "Epoch 46/50\n",
      "20/20 [==============================] - 0s 2ms/step - loss: 0.0068 - mae: 0.0623 - val_loss: 0.0065 - val_mae: 0.0616\n",
      "Epoch 47/50\n",
      "20/20 [==============================] - 0s 3ms/step - loss: 0.0066 - mae: 0.0615 - val_loss: 0.0076 - val_mae: 0.0680\n",
      "Epoch 48/50\n",
      "20/20 [==============================] - 0s 3ms/step - loss: 0.0068 - mae: 0.0622 - val_loss: 0.0066 - val_mae: 0.0615\n",
      "Epoch 49/50\n",
      "20/20 [==============================] - 0s 2ms/step - loss: 0.0065 - mae: 0.0605 - val_loss: 0.0066 - val_mae: 0.0612\n",
      "Epoch 50/50\n",
      "20/20 [==============================] - 0s 2ms/step - loss: 0.0067 - mae: 0.0616 - val_loss: 0.0064 - val_mae: 0.0612\n"
     ]
    }
   ],
   "source": [
    "history = model.fit(train_data,\n",
    "                    train_targets,\n",
    "                    epochs=50,\n",
    "                    batch_size=100,\n",
    "                    validation_data=(val_data, val_targets)\n",
    "                    )"
   ]
  },
  {
   "cell_type": "code",
   "execution_count": 25,
   "metadata": {},
   "outputs": [
    {
     "data": {
      "image/png": "[encoded data removed]",
      "text/plain": [
       "<Figure size 432x288 with 1 Axes>"
      ]
     },
     "metadata": {
      "needs_background": "light"
     },
     "output_type": "display_data"
    }
   ],
   "source": [
    "acc = history.history['mae']\n",
    "val_acc = history.history['val_mae']\n",
    "loss = history.history['loss']\n",
    "val_loss = history.history['val_loss']\n",
    "epochs = range(1, len(acc) + 1)\n",
    "# \"bo\" is for \"blue dot\"\n",
    "plt.plot(epochs, loss, 'bo', label='Training loss')\n",
    "# b is for \"solid blue line\"\n",
    "plt.plot(epochs, val_loss, 'b', label='Validation loss')\n",
    "plt.title('Training and validation loss')\n",
    "plt.xlabel('Epochs')\n",
    "plt.ylabel('Loss')\n",
    "plt.legend()\n",
    "plt.show()"
   ]
  },
  {
   "cell_type": "code",
   "execution_count": 26,
   "metadata": {},
   "outputs": [
    {
     "name": "stdout",
     "output_type": "stream",
     "text": [
      "32/32 [==============================] - 0s 2ms/step - loss: 0.0062 - mae: 0.0595\n"
     ]
    }
   ],
   "source": [
    "test_mse_score, test_mae_score = model.evaluate(test_data, test_targets)"
   ]
  },
  {
   "cell_type": "code",
   "execution_count": 27,
   "metadata": {},
   "outputs": [],
   "source": [
    "model.save('time_prediction.h5')"
   ]
  },
  {
   "cell_type": "code",
   "execution_count": 32,
   "metadata": {},
   "outputs": [
    {
     "data": {
      "text/plain": [
       "array([[0.5150707]], dtype=float32)"
      ]
     },
     "execution_count": 32,
     "metadata": {},
     "output_type": "execute_result"
    }
   ],
   "source": [
    "predicted = model.predict([[0.6771, 0.6, 1, 0.76]])\n",
    "predicted   "
   ]
  },
  {
   "cell_type": "code",
   "execution_count": null,
   "metadata": {},
   "outputs": [],
   "source": []
  }
 ],
 "metadata": {
  "interpreter": {
   "hash": "4b1a161e248d60afddd56587ca44e79f8ca6e65a76b88ff81d78f2846b2ccfdc"
  },
  "kernelspec": {
   "display_name": "Python 3.7.7 64-bit",
   "name": "python3"
  },
  "language_info": {
   "codemirror_mode": {
    "name": "ipython",
    "version": 3
   },
   "file_extension": ".py",
   "mimetype": "text/x-python",
   "name": "python",
   "nbconvert_exporter": "python",
   "pygments_lexer": "ipython3",
   "version": "3.7.7"
  },
  "orig_nbformat": 4
 },
 "nbformat": 4,
 "nbformat_minor": 2
}
