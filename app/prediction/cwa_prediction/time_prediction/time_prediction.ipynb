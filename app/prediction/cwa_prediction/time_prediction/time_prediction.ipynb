{
 "cells": [
  {
   "cell_type": "code",
   "execution_count": 99,
   "source": [
    "import os\r\n",
    "import os.path as path\r\n",
    "import numpy as np\r\n",
    "import pandas as pd \r\n",
    "import matplotlib.pyplot as plt \r\n",
    "from tensorflow.keras import layers, models, optimizers, regularizers\r\n",
    "from tensorflow.keras.models import load_model"
   ],
   "outputs": [],
   "metadata": {}
  },
  {
   "cell_type": "code",
   "execution_count": 100,
   "source": [
    "current_dir = os.path.join(os.getcwd())\r\n",
    "file = os.path.join(path.dirname(path.dirname(current_dir)), \"generate_data\\data_cwa.csv\")\r\n",
    "myData = pd.read_csv(file, delimiter=',', usecols=['cwa','credit','time','difficulty', 'score'])\r\n",
    "my_data_copy = myData\r\n",
    "myData.shape"
   ],
   "outputs": [
    {
     "output_type": "execute_result",
     "data": {
      "text/plain": [
       "(180346, 5)"
      ]
     },
     "metadata": {},
     "execution_count": 100
    }
   ],
   "metadata": {}
  },
  {
   "cell_type": "code",
   "execution_count": 101,
   "source": [
    "myData[\"score\"] = myData[\"score\"].values / 100\r\n",
    "myData[\"cwa\"] = myData[\"cwa\"].values / 100\r\n",
    "myData[\"credit\"] = myData[\"credit\"].values / 10\r\n",
    "myData [\"difficulty\"] = myData['difficulty'].values / 5\r\n",
    "myData[\"time\"] = myData[\"time\"].values / 6"
   ],
   "outputs": [],
   "metadata": {}
  },
  {
   "cell_type": "code",
   "execution_count": 102,
   "source": [
    "df = pd.DataFrame(myData)\r\n",
    "df = df.sample(frac=1)\r\n",
    "\r\n",
    "myData = df"
   ],
   "outputs": [],
   "metadata": {}
  },
  {
   "cell_type": "code",
   "execution_count": 103,
   "source": [
    "targets = myData[['time']].values\r\n",
    "myData.drop(('time'), axis=1, inplace=True)\r\n",
    "data = myData.values\r\n",
    "\r\n",
    "print(targets.shape)\r\n",
    "print(data.shape)"
   ],
   "outputs": [
    {
     "output_type": "stream",
     "name": "stdout",
     "text": [
      "(180346, 1)\n",
      "(180346, 4)\n"
     ]
    }
   ],
   "metadata": {}
  },
  {
   "cell_type": "code",
   "execution_count": 104,
   "source": [
    "# num_train = int(0.5 * len(data)) \r\n",
    "# num_val = int(0.25 * len(data))\r\n",
    "# num_test = int(0.25 * len(data))"
   ],
   "outputs": [],
   "metadata": {}
  },
  {
   "cell_type": "code",
   "execution_count": 105,
   "source": [
    "# train_data = data[0 : num_train]\r\n",
    "# test_data = data[num_train: num_train + num_test]\r\n",
    "# val_data = data[num_train + num_test:]\r\n",
    "\r\n",
    "# train_targets = targets[0 : num_train]\r\n",
    "# test_targets = targets[num_train: num_train + num_test]\r\n",
    "# val_targets = targets[num_train + num_test:]\r\n",
    "\r\n",
    "train_data = data[0 : 2000]\r\n",
    "test_data = data[2000: 3000]\r\n",
    "val_data = data[3000:4000]\r\n",
    "\r\n",
    "train_targets = targets[0 : 2000]\r\n",
    "test_targets = targets[2000: 3000]\r\n",
    "val_targets = targets[3000 :4000]\r\n",
    "\r\n",
    "print(len(train_data) + len(test_data) + len(val_data))\r\n",
    "print(len(train_targets) + len(test_targets) + len(val_targets))"
   ],
   "outputs": [
    {
     "output_type": "stream",
     "name": "stdout",
     "text": [
      "4000\n",
      "4000\n"
     ]
    }
   ],
   "metadata": {}
  },
  {
   "cell_type": "code",
   "execution_count": 106,
   "source": [
    "model = models.Sequential()\r\n",
    "model.add(layers.Dense(64, activation=\"relu\", input_shape=(train_data.shape[1],)))\r\n",
    "# model.add(layers.Dropout(0.5))\r\n",
    "model.add(layers.Dense(64, activation=\"relu\"))\r\n",
    "# model.add(layers.Dropout(0.5))\r\n",
    "model.add(layers.Dense(64, activation=\"relu\"))\r\n",
    "# model.add(layers.Dropout(0.5))\r\n",
    "model.add(layers.Dense(1))\r\n",
    "\r\n",
    "model.summary()"
   ],
   "outputs": [
    {
     "output_type": "stream",
     "name": "stdout",
     "text": [
      "Model: \"sequential_8\"\n",
      "_________________________________________________________________\n",
      "Layer (type)                 Output Shape              Param #   \n",
      "=================================================================\n",
      "dense_32 (Dense)             (None, 64)                320       \n",
      "_________________________________________________________________\n",
      "dense_33 (Dense)             (None, 64)                4160      \n",
      "_________________________________________________________________\n",
      "dense_34 (Dense)             (None, 64)                4160      \n",
      "_________________________________________________________________\n",
      "dense_35 (Dense)             (None, 1)                 65        \n",
      "=================================================================\n",
      "Total params: 8,705\n",
      "Trainable params: 8,705\n",
      "Non-trainable params: 0\n",
      "_________________________________________________________________\n"
     ]
    }
   ],
   "metadata": {}
  },
  {
   "cell_type": "code",
   "execution_count": 107,
   "source": [
    "model.compile(\r\n",
    "    optimizer=optimizers.RMSprop(learning_rate=2e-4),\r\n",
    "    loss=\"mse\",\r\n",
    "    metrics=['mae']\r\n",
    "    )"
   ],
   "outputs": [],
   "metadata": {}
  },
  {
   "cell_type": "code",
   "execution_count": 108,
   "source": [
    "history = model.fit(train_data,\r\n",
    "                    train_targets,\r\n",
    "                    epochs=50,\r\n",
    "                    batch_size=100,\r\n",
    "                    validation_data=(val_data, val_targets)\r\n",
    "                    )"
   ],
   "outputs": [
    {
     "output_type": "stream",
     "name": "stdout",
     "text": [
      "Epoch 1/50\n",
      "20/20 [==============================] - 1s 7ms/step - loss: 0.0507 - mae: 0.1706 - val_loss: 0.0212 - val_mae: 0.1080\n",
      "Epoch 2/50\n",
      "20/20 [==============================] - 0s 2ms/step - loss: 0.0204 - mae: 0.1091 - val_loss: 0.0158 - val_mae: 0.1017\n",
      "Epoch 3/50\n",
      "20/20 [==============================] - 0s 2ms/step - loss: 0.0174 - mae: 0.1056 - val_loss: 0.0146 - val_mae: 0.0993\n",
      "Epoch 4/50\n",
      "20/20 [==============================] - 0s 2ms/step - loss: 0.0160 - mae: 0.1016 - val_loss: 0.0134 - val_mae: 0.0945\n",
      "Epoch 5/50\n",
      "20/20 [==============================] - 0s 3ms/step - loss: 0.0149 - mae: 0.0979 - val_loss: 0.0124 - val_mae: 0.0892\n",
      "Epoch 6/50\n",
      "20/20 [==============================] - 0s 2ms/step - loss: 0.0139 - mae: 0.0938 - val_loss: 0.0118 - val_mae: 0.0887\n",
      "Epoch 7/50\n",
      "20/20 [==============================] - 0s 2ms/step - loss: 0.0131 - mae: 0.0909 - val_loss: 0.0110 - val_mae: 0.0834\n",
      "Epoch 8/50\n",
      "20/20 [==============================] - 0s 2ms/step - loss: 0.0124 - mae: 0.0879 - val_loss: 0.0104 - val_mae: 0.0813\n",
      "Epoch 9/50\n",
      "20/20 [==============================] - 0s 3ms/step - loss: 0.0117 - mae: 0.0854 - val_loss: 0.0101 - val_mae: 0.0811\n",
      "Epoch 10/50\n",
      "20/20 [==============================] - 0s 2ms/step - loss: 0.0111 - mae: 0.0832 - val_loss: 0.0093 - val_mae: 0.0768\n",
      "Epoch 11/50\n",
      "20/20 [==============================] - 0s 3ms/step - loss: 0.0107 - mae: 0.0812 - val_loss: 0.0090 - val_mae: 0.0748\n",
      "Epoch 12/50\n",
      "20/20 [==============================] - 0s 2ms/step - loss: 0.0102 - mae: 0.0787 - val_loss: 0.0085 - val_mae: 0.0732\n",
      "Epoch 13/50\n",
      "20/20 [==============================] - 0s 3ms/step - loss: 0.0097 - mae: 0.0761 - val_loss: 0.0086 - val_mae: 0.0742\n",
      "Epoch 14/50\n",
      "20/20 [==============================] - 0s 2ms/step - loss: 0.0094 - mae: 0.0749 - val_loss: 0.0077 - val_mae: 0.0684\n",
      "Epoch 15/50\n",
      "20/20 [==============================] - 0s 2ms/step - loss: 0.0090 - mae: 0.0731 - val_loss: 0.0076 - val_mae: 0.0678\n",
      "Epoch 16/50\n",
      "20/20 [==============================] - 0s 2ms/step - loss: 0.0087 - mae: 0.0718 - val_loss: 0.0072 - val_mae: 0.0653\n",
      "Epoch 17/50\n",
      "20/20 [==============================] - 0s 2ms/step - loss: 0.0085 - mae: 0.0710 - val_loss: 0.0071 - val_mae: 0.0644\n",
      "Epoch 18/50\n",
      "20/20 [==============================] - 0s 2ms/step - loss: 0.0084 - mae: 0.0702 - val_loss: 0.0069 - val_mae: 0.0641\n",
      "Epoch 19/50\n",
      "20/20 [==============================] - 0s 2ms/step - loss: 0.0082 - mae: 0.0694 - val_loss: 0.0069 - val_mae: 0.0641\n",
      "Epoch 20/50\n",
      "20/20 [==============================] - 0s 2ms/step - loss: 0.0081 - mae: 0.0688 - val_loss: 0.0067 - val_mae: 0.0628\n",
      "Epoch 21/50\n",
      "20/20 [==============================] - 0s 2ms/step - loss: 0.0080 - mae: 0.0684 - val_loss: 0.0069 - val_mae: 0.0642\n",
      "Epoch 22/50\n",
      "20/20 [==============================] - 0s 2ms/step - loss: 0.0079 - mae: 0.0681 - val_loss: 0.0067 - val_mae: 0.0615\n",
      "Epoch 23/50\n",
      "20/20 [==============================] - 0s 2ms/step - loss: 0.0078 - mae: 0.0675 - val_loss: 0.0066 - val_mae: 0.0622\n",
      "Epoch 24/50\n",
      "20/20 [==============================] - 0s 2ms/step - loss: 0.0077 - mae: 0.0669 - val_loss: 0.0067 - val_mae: 0.0626\n",
      "Epoch 25/50\n",
      "20/20 [==============================] - 0s 2ms/step - loss: 0.0076 - mae: 0.0668 - val_loss: 0.0064 - val_mae: 0.0608\n",
      "Epoch 26/50\n",
      "20/20 [==============================] - 0s 2ms/step - loss: 0.0076 - mae: 0.0663 - val_loss: 0.0064 - val_mae: 0.0612\n",
      "Epoch 27/50\n",
      "20/20 [==============================] - 0s 2ms/step - loss: 0.0076 - mae: 0.0665 - val_loss: 0.0065 - val_mae: 0.0620\n",
      "Epoch 28/50\n",
      "20/20 [==============================] - 0s 2ms/step - loss: 0.0075 - mae: 0.0658 - val_loss: 0.0063 - val_mae: 0.0606\n",
      "Epoch 29/50\n",
      "20/20 [==============================] - 0s 2ms/step - loss: 0.0075 - mae: 0.0660 - val_loss: 0.0062 - val_mae: 0.0599\n",
      "Epoch 30/50\n",
      "20/20 [==============================] - 0s 2ms/step - loss: 0.0075 - mae: 0.0659 - val_loss: 0.0062 - val_mae: 0.0601\n",
      "Epoch 31/50\n",
      "20/20 [==============================] - 0s 2ms/step - loss: 0.0074 - mae: 0.0649 - val_loss: 0.0063 - val_mae: 0.0605\n",
      "Epoch 32/50\n",
      "20/20 [==============================] - 0s 2ms/step - loss: 0.0074 - mae: 0.0653 - val_loss: 0.0061 - val_mae: 0.0594\n",
      "Epoch 33/50\n",
      "20/20 [==============================] - 0s 2ms/step - loss: 0.0073 - mae: 0.0651 - val_loss: 0.0063 - val_mae: 0.0602\n",
      "Epoch 34/50\n",
      "20/20 [==============================] - 0s 2ms/step - loss: 0.0073 - mae: 0.0648 - val_loss: 0.0062 - val_mae: 0.0598\n",
      "Epoch 35/50\n",
      "20/20 [==============================] - 0s 2ms/step - loss: 0.0074 - mae: 0.0654 - val_loss: 0.0061 - val_mae: 0.0597\n",
      "Epoch 36/50\n",
      "20/20 [==============================] - 0s 2ms/step - loss: 0.0073 - mae: 0.0648 - val_loss: 0.0061 - val_mae: 0.0596\n",
      "Epoch 37/50\n",
      "20/20 [==============================] - 0s 2ms/step - loss: 0.0072 - mae: 0.0645 - val_loss: 0.0061 - val_mae: 0.0588\n",
      "Epoch 38/50\n",
      "20/20 [==============================] - 0s 2ms/step - loss: 0.0072 - mae: 0.0643 - val_loss: 0.0065 - val_mae: 0.0620\n",
      "Epoch 39/50\n",
      "20/20 [==============================] - 0s 2ms/step - loss: 0.0072 - mae: 0.0644 - val_loss: 0.0061 - val_mae: 0.0597\n",
      "Epoch 40/50\n",
      "20/20 [==============================] - 0s 3ms/step - loss: 0.0072 - mae: 0.0645 - val_loss: 0.0060 - val_mae: 0.0591\n",
      "Epoch 41/50\n",
      "20/20 [==============================] - 0s 2ms/step - loss: 0.0073 - mae: 0.0648 - val_loss: 0.0060 - val_mae: 0.0591\n",
      "Epoch 42/50\n",
      "20/20 [==============================] - 0s 2ms/step - loss: 0.0070 - mae: 0.0634 - val_loss: 0.0061 - val_mae: 0.0595\n",
      "Epoch 43/50\n",
      "20/20 [==============================] - 0s 2ms/step - loss: 0.0072 - mae: 0.0644 - val_loss: 0.0060 - val_mae: 0.0588\n",
      "Epoch 44/50\n",
      "20/20 [==============================] - 0s 2ms/step - loss: 0.0071 - mae: 0.0636 - val_loss: 0.0059 - val_mae: 0.0583\n",
      "Epoch 45/50\n",
      "20/20 [==============================] - 0s 2ms/step - loss: 0.0071 - mae: 0.0640 - val_loss: 0.0059 - val_mae: 0.0581\n",
      "Epoch 46/50\n",
      "20/20 [==============================] - 0s 2ms/step - loss: 0.0070 - mae: 0.0637 - val_loss: 0.0059 - val_mae: 0.0583\n",
      "Epoch 47/50\n",
      "20/20 [==============================] - 0s 2ms/step - loss: 0.0070 - mae: 0.0635 - val_loss: 0.0059 - val_mae: 0.0583\n",
      "Epoch 48/50\n",
      "20/20 [==============================] - 0s 2ms/step - loss: 0.0070 - mae: 0.0634 - val_loss: 0.0059 - val_mae: 0.0587\n",
      "Epoch 49/50\n",
      "20/20 [==============================] - 0s 2ms/step - loss: 0.0070 - mae: 0.0636 - val_loss: 0.0059 - val_mae: 0.0579\n",
      "Epoch 50/50\n",
      "20/20 [==============================] - 0s 2ms/step - loss: 0.0070 - mae: 0.0635 - val_loss: 0.0059 - val_mae: 0.0580\n"
     ]
    }
   ],
   "metadata": {}
  },
  {
   "cell_type": "code",
   "execution_count": 109,
   "source": [
    "acc = history.history['mae']\r\n",
    "val_acc = history.history['val_mae']\r\n",
    "loss = history.history['loss']\r\n",
    "val_loss = history.history['val_loss']\r\n",
    "epochs = range(1, len(acc) + 1)\r\n",
    "# \"bo\" is for \"blue dot\"\r\n",
    "plt.plot(epochs, loss, 'bo', label='Training loss')\r\n",
    "# b is for \"solid blue line\"\r\n",
    "plt.plot(epochs, val_loss, 'b', label='Validation loss')\r\n",
    "plt.title('Training and validation loss')\r\n",
    "plt.xlabel('Epochs')\r\n",
    "plt.ylabel('Loss')\r\n",
    "plt.legend()\r\n",
    "plt.show()"
   ],
   "outputs": [
    {
     "output_type": "display_data",
     "data": {
      "image/png": "[encoded data removed]",
      "text/plain": [
       "<Figure size 432x288 with 1 Axes>"
      ]
     },
     "metadata": {
      "needs_background": "light"
     }
    }
   ],
   "metadata": {}
  },
  {
   "cell_type": "code",
   "execution_count": 110,
   "source": [
    "test_mse_score, test_mae_score = model.evaluate(test_data, test_targets)"
   ],
   "outputs": [
    {
     "output_type": "stream",
     "name": "stdout",
     "text": [
      "32/32 [==============================] - 0s 1ms/step - loss: 0.0060 - mae: 0.0581\n"
     ]
    }
   ],
   "metadata": {}
  },
  {
   "cell_type": "code",
   "execution_count": 111,
   "source": [
    "model.save('time_prediction.h5')"
   ],
   "outputs": [],
   "metadata": {}
  },
  {
   "cell_type": "code",
   "execution_count": 112,
   "source": [
    "predicted = model.predict([[0.8771, 0.4, 0.6, 0.82]])\r\n",
    "predicted   "
   ],
   "outputs": [
    {
     "output_type": "execute_result",
     "data": {
      "text/plain": [
       "array([[0.46751073]], dtype=float32)"
      ]
     },
     "metadata": {},
     "execution_count": 112
    }
   ],
   "metadata": {}
  },
  {
   "cell_type": "code",
   "execution_count": null,
   "source": [],
   "outputs": [],
   "metadata": {}
  }
 ],
 "metadata": {
  "orig_nbformat": 4,
  "language_info": {
   "name": "python",
   "version": "3.7.7",
   "mimetype": "text/x-python",
   "codemirror_mode": {
    "name": "ipython",
    "version": 3
   },
   "pygments_lexer": "ipython3",
   "nbconvert_exporter": "python",
   "file_extension": ".py"
  },
  "kernelspec": {
   "name": "python3",
   "display_name": "Python 3.7.7 64-bit"
  },
  "interpreter": {
   "hash": "4b1a161e248d60afddd56587ca44e79f8ca6e65a76b88ff81d78f2846b2ccfdc"
  }
 },
 "nbformat": 4,
 "nbformat_minor": 2
}